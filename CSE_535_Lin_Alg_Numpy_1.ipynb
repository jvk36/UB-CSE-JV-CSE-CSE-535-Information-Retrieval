{
  "nbformat": 4,
  "nbformat_minor": 0,
  "metadata": {
    "colab": {
      "provenance": []
    },
    "kernelspec": {
      "name": "python3",
      "display_name": "Python 3"
    },
    "language_info": {
      "name": "python"
    }
  },
  "cells": [
    {
      "cell_type": "markdown",
      "metadata": {
        "id": "v9u_nFwzKWpt"
      },
      "source": [
        "# Low Rank approximation"
      ]
    },
    {
      "cell_type": "code",
      "metadata": {
        "id": "XsJ6jumX7QYX"
      },
      "source": [
        "import numpy as np"
      ],
      "execution_count": 2,
      "outputs": []
    },
    {
      "cell_type": "code",
      "metadata": {
        "colab": {
          "base_uri": "https://localhost:8080/"
        },
        "id": "pdCT_z9_2k_l",
        "outputId": "147a9ec9-4c56-4725-f261-c79cd20402be"
      },
      "source": [
        "U = np.asarray([[-1, 1, 0, 0.5],\n",
        "                [-0.5, 0, -1, -0.5],\n",
        "                [0, -0.5, 0, 1],\n",
        "                [-0.5, 0, 1, -0.5]])\n",
        "\n",
        "U, U.shape"
      ],
      "execution_count": 3,
      "outputs": [
        {
          "output_type": "execute_result",
          "data": {
            "text/plain": [
              "(array([[-1. ,  1. ,  0. ,  0.5],\n",
              "        [-0.5,  0. , -1. , -0.5],\n",
              "        [ 0. , -0.5,  0. ,  1. ],\n",
              "        [-0.5,  0. ,  1. , -0.5]]), (4, 4))"
            ]
          },
          "metadata": {},
          "execution_count": 3
        }
      ]
    },
    {
      "cell_type": "code",
      "metadata": {
        "colab": {
          "base_uri": "https://localhost:8080/"
        },
        "id": "O5OKr05A2XF5",
        "outputId": "a4b0290d-c55c-406a-fdf2-e6290d701944"
      },
      "source": [
        "V = np.asarray([[-0.5, 0.5, -1],\n",
        "                [-1, -1, 0],\n",
        "                [-0.5, 0.5, 1]])\n",
        "\n",
        "V, V.shape"
      ],
      "execution_count": 4,
      "outputs": [
        {
          "output_type": "execute_result",
          "data": {
            "text/plain": [
              "(array([[-0.5,  0.5, -1. ],\n",
              "        [-1. , -1. ,  0. ],\n",
              "        [-0.5,  0.5,  1. ]]), (3, 3))"
            ]
          },
          "metadata": {},
          "execution_count": 4
        }
      ]
    },
    {
      "cell_type": "code",
      "metadata": {
        "id": "mlNZ_OtX4CUQ"
      },
      "source": [
        "sig = np.asarray([2, 1.5, 1])"
      ],
      "execution_count": 5,
      "outputs": []
    },
    {
      "cell_type": "code",
      "metadata": {
        "colab": {
          "base_uri": "https://localhost:8080/"
        },
        "id": "E4gmaDJw22IR",
        "outputId": "3181549f-8b80-4df0-8cdf-d31c1c985441"
      },
      "source": [
        "S = np.eye(U.shape[0],V.shape[0]) * sig\n",
        "\n",
        "S, S.shape"
      ],
      "execution_count": 6,
      "outputs": [
        {
          "output_type": "execute_result",
          "data": {
            "text/plain": [
              "(array([[2. , 0. , 0. ],\n",
              "        [0. , 1.5, 0. ],\n",
              "        [0. , 0. , 1. ],\n",
              "        [0. , 0. , 0. ]]), (4, 3))"
            ]
          },
          "metadata": {},
          "execution_count": 6
        }
      ]
    },
    {
      "cell_type": "code",
      "metadata": {
        "colab": {
          "base_uri": "https://localhost:8080/"
        },
        "id": "2ORq7Tym5Pz7",
        "outputId": "32ffa532-f43d-4b24-e356-dac64133ce0a"
      },
      "source": [
        "np.linalg.matrix_rank(S)"
      ],
      "execution_count": 7,
      "outputs": [
        {
          "output_type": "execute_result",
          "data": {
            "text/plain": [
              "3"
            ]
          },
          "metadata": {},
          "execution_count": 7
        }
      ]
    },
    {
      "cell_type": "code",
      "metadata": {
        "colab": {
          "base_uri": "https://localhost:8080/"
        },
        "id": "2kVeQmac5j0b",
        "outputId": "7c87dd70-82d0-4f7b-c959-0fcecbdfb2da"
      },
      "source": [
        "#Method 1\n",
        "U[:,:1] @ S[:1,:1] @ V[:,:1].T"
      ],
      "execution_count": 8,
      "outputs": [
        {
          "output_type": "execute_result",
          "data": {
            "text/plain": [
              "array([[1. , 2. , 1. ],\n",
              "       [0.5, 1. , 0.5],\n",
              "       [0. , 0. , 0. ],\n",
              "       [0.5, 1. , 0.5]])"
            ]
          },
          "metadata": {},
          "execution_count": 8
        }
      ]
    },
    {
      "cell_type": "code",
      "metadata": {
        "colab": {
          "base_uri": "https://localhost:8080/"
        },
        "id": "eJ5SClaHJIeV",
        "outputId": "4fec3559-66dd-43b9-d98d-076f97a612a9"
      },
      "source": [
        "#Method 2\n",
        "np.outer(U[:, 0], V.T[0]) * sig[0]"
      ],
      "execution_count": 9,
      "outputs": [
        {
          "output_type": "execute_result",
          "data": {
            "text/plain": [
              "array([[ 1. ,  2. ,  1. ],\n",
              "       [ 0.5,  1. ,  0.5],\n",
              "       [-0. , -0. , -0. ],\n",
              "       [ 0.5,  1. ,  0.5]])"
            ]
          },
          "metadata": {},
          "execution_count": 9
        }
      ]
    },
    {
      "cell_type": "code",
      "metadata": {
        "colab": {
          "base_uri": "https://localhost:8080/"
        },
        "id": "TVKvQNhIEx2m",
        "outputId": "733b535e-2b0c-4ad9-f740-cfc937be6b5c"
      },
      "source": [
        "R = 1\n",
        "mask = np.zeros((U.shape[0],V.shape[0]))\n",
        "mask[:R, :R] = 1\n",
        "mask"
      ],
      "execution_count": null,
      "outputs": [
        {
          "output_type": "execute_result",
          "data": {
            "text/plain": [
              "array([[1., 0., 0.],\n",
              "       [0., 0., 0.],\n",
              "       [0., 0., 0.],\n",
              "       [0., 0., 0.]])"
            ]
          },
          "metadata": {},
          "execution_count": 9
        }
      ]
    },
    {
      "cell_type": "code",
      "metadata": {
        "colab": {
          "base_uri": "https://localhost:8080/"
        },
        "id": "isF0rugC3P65",
        "outputId": "1b08a09c-277f-4738-bb80-586866bf1b6a"
      },
      "source": [
        "#Method 3\n",
        "((U @ (S * mask)) @ V.T)"
      ],
      "execution_count": null,
      "outputs": [
        {
          "output_type": "execute_result",
          "data": {
            "text/plain": [
              "array([[1. , 2. , 1. ],\n",
              "       [0.5, 1. , 0.5],\n",
              "       [0. , 0. , 0. ],\n",
              "       [0.5, 1. , 0.5]])"
            ]
          },
          "metadata": {},
          "execution_count": 10
        }
      ]
    },
    {
      "cell_type": "code",
      "metadata": {
        "id": "TnHZei_L_qMc",
        "colab": {
          "base_uri": "https://localhost:8080/"
        },
        "outputId": "46efee20-133c-4ac2-8fac-92305322c314"
      },
      "source": [
        "(U @ S @ V.T)"
      ],
      "execution_count": null,
      "outputs": [
        {
          "output_type": "execute_result",
          "data": {
            "text/plain": [
              "array([[ 1.75 ,  0.5  ,  1.75 ],\n",
              "       [ 1.5  ,  1.   , -0.5  ],\n",
              "       [-0.375,  0.75 , -0.375],\n",
              "       [-0.5  ,  1.   ,  1.5  ]])"
            ]
          },
          "metadata": {},
          "execution_count": 21
        }
      ]
    },
    {
      "cell_type": "code",
      "metadata": {
        "id": "m3AllQa__qPn"
      },
      "source": [],
      "execution_count": null,
      "outputs": []
    },
    {
      "cell_type": "markdown",
      "metadata": {
        "id": "QVpqQv7OKaAG"
      },
      "source": [
        "# Page rank"
      ]
    },
    {
      "cell_type": "code",
      "metadata": {
        "id": "ZSoD5Bf_Kkf8"
      },
      "source": [],
      "execution_count": null,
      "outputs": []
    },
    {
      "cell_type": "markdown",
      "metadata": {
        "id": "rzOX3ZVRKlLW"
      },
      "source": [
        "![image.png](data:image/png;base64,iVBORw0KGgoAAAANSUhEUgAAAPkAAADnCAYAAADck/B7AAAgAElEQVR4Aay9WbC1Z3UeSKXiJJX7VOUyucldbnOT6naVu8vl7r5wp7rb6XSmSjpJuzumcJLGUxwbcCQGIySQkBBCaMAgZnBAiMlIWEiIQcIIIwkJLMygWWgE/fPb9Uxrre87+/wSTv/SOd+33zU9z7PWu/c+e3zZuXPnFn/W0vEcjmudw3+xnYPR6ziPTV4w8R/dHCN/Be7tKIDcPDIX0yvHkZrwbWwdK4w2Op/WhFsxR+2dK/zKBwiKO+GJITARJ412Fy5XlCaSIemYoLArQ+kUp7Irddl7neQZjRhqWRiNQc7CzvNwNF41w3h6rcJYgr+Gjsnho/lTs+ikkJ4Tc9z3W72WUv2bcHoOOCrRWUKKq2YFWDNTnQ9rsvfRa8FYuMWjdY8O5seLnStaa0aCVei1ZlwqZxy273WwTsHIePoc5RmOPMqM06Fx+CnpXhddbhtqvUxChkQEjdhGR6cQoNZdtCbFQCxqCDGKPonPoCK3Ae9zsHHpkrAon3O4sSAgUaz0gFspXUa1jsbDj5WIxTognRdVI80fOrHk0ClAWC8cwy/4DGbjgwsjT2zRwLiSvnQoDcSJ9jgJvHukvsB0kKeF4uAJSmmqtZ6J6qn93BnhH3ngJyiDV+Yix/C0NInpGiOH85GpeYuvuDVOJCMcY+JFUhc856QQ8iPC0hJcj9HJ4r3keSjMRE0MDUS4w5n4SxcRCC7ysY3YMg+i2jyLg+olDjVehmQRtsXqxpadzWBplBQ+JH4J8SVMwFZjRfZwDjkxNjWCgYQIWx2JnVSYrQZc/QxHC16CYL3XpIMxxSc1q4a1CZfyGzUqp3JpPtSdjcbOwboHzjWYANCYjmKkmWJEx9TrWs5RHOjOxfhEJ+odToeOmxyoGD2MsexjhkyEteKf3Lys2OJ5MAcbwb66aV2buZqTBRszamzcwMJcOm7wtE7SQTmLI+oQhnqtHOG/5UvP4a8cys+4gxxHDuOKr/pkjpmHyhF+iO95iA5jk28JFQHR2gS3AIRO5CGhfroYSZJu+1gk+NUwpgbb1oDNwauArFyqlUsaT+XyeURgkfgJE7PEPupKmuAOBuWTcAyqK4/wnDqpEn6rmdFJNdtqD+dKTdnDMsM0dRJG9Uk5hbPWVZm9knbInbzKvIkrHczTCiumOfAy8lSuYGYzua6821rSyBirlnzas+1EUTMTP9lRO5yKQ/FtbIiio6AhuOKYo6ZIJuVy/I6jets6qFzXij08VWvYa163OTY6lubhGchiQnzJQ3xQSb4bnl4Lx8TB92UsmOYNgaVVkychZneBCBIRVdo8FScRWna7aigMeEM4g1C5WxyCD77YSWwQjtobPzklvhqRZjuGI6WdRZXLfz9IrE0Xg5Mo5MF5cnPMRbp14+cVgEqfW2fPnltnzpxZZ8+eVTs1l9pUVY8Iu2Y0IFcv85yFiwNxSQKtgU/plFHwxqic1WipVP7CgIvi1XWZqThr/KJptJGP9ElK5vEFHVwDlZ1P8eNycTD+4CYsxRNBisTOy8Y+bWfPrlOnT62Tp06t06dPrbNnzux4qw4B7eehcA7Nqp5no0zSPnxIY9g268hBeQdv5k37tjwTy+Mupzd5SKhpET6B0VTCoYiHtoRC1s5xxC6zNKIoiWdGy7bNSwohpb44XhhRgzWh28jP5RrCKVDidGSywi9Bi+dYpxYupOVg3zdMQFifiXZ8kpNcgl25Tpw4sR588MH19NNPU1ts+nPnzq5zZ3EFcJZXAlNTrctGP+jEGGPDuX94xXFOVyTncCXic9agD+rkR36qqfrKAwz2ca09xuSuo7bJZlbYMwlk+bc6UCK3R5IPe82N+y351Xmeg7s3wIF5oH6bvvQ8vPDCC+vuu+9eN91003rggfvX6dOnmUvzoL52cm++mk3Zw411BhAzIOjY4ov8+MfLPsqnZ1p2GoeWsjt8QNPG5/qA/bLyECNfbCJlZ3MQ7kQWlHaLl9IFlO6BogbMeJdkzpBl9gg4a9R5GqmmUihiixDMZEG01hxUHZeFcSgRfm4QhTd0nRuA/agQ8rhE68AVchIXnlYjJZUSx376zJn11FNPLQwbbtFPn8bP6XXKPzk/feo01+s47Kd5K3R6te0Uz5ED8VxPPOJ8jmP7KAa+p5Dv1Cn6lT15eNStHm75YsfxzOnTvkKQDuLYG1A6abCp65inzTywNdZpMw/pg+epLnoeOgkdNBrp94F5OHeO2jzyyCPr/vvvX0888QTx98yowLHzoAkgC84VSxhUYZlaBLfW6JIcg6f2EmZZ/qivn8yTDWWHnzVg6hImd9edkpqGVIKcXHuHFbsgA9QmhNln2lkvQEy67YMAfUJEYBk7yHFLabFroTp8EM+fJqf92jkFz0BpzEr7IIcaLP5snCalRNzmlX9qZ+POhouv8bG8MLYOulXG3cVHHn10fe/7P1h//v0f1BHnuQzbtOfyT3vsnD9k7n3+mS++x/lM+/d/8ANeYeXWcHIsTdIzCen5ofLWOP23TmkJL6pX6ZyaLn+c15UKZ0GX1cMxa66rVqsG7qmcOeN7LDVzmivEM3fw4kgOXJZNDnLNPPrYGHvOgl+phaG10uyxijmJg3mWHpn7zmtorWP9TS7IJrIVg4WBiIlVpMBIUnHwecQo8HufEjBEDNAYKjd5N3jW96/2abtGJKLvcLImKRCrMLp+4XFDS8CdDuSh/OTmnNLHTSeH5N0dSweOIZOLR/zOred//ON1w/vev657zwfWde/94LruvR/a/Fy/uwz7obUZB/v0mefni9/7zZyHz4H3g+vq6969PvtHn+O9ku6TOW4npQdxp6XUhNZz+FundEr2sX6olxrc3nzl89LmoTaaoDTmmgfuQq83T3dZUz35pf6IPx/PTNYhLTV7x8yk64AlH12vDRkA5RCRk0ibh/LDJ//Rn2qCZQnhqBYA/kMs9tA5GMcNlnjtNhGxkNWwzqO5mThj07FqpO5mcFRLmAl94BsNC1fBEEdycbxAKLYwOj6xGx/FUT8LAp7PPvfcevWFb1jv/9Rt6yM3f9U/d64/vPlOnn/0Fhx13nb43bk+QttX6/jRm7+68CO/Oxdjb4n9TtqQNz+Mp935bOsczgUf25Ab8fH58Oe+sq64/oPrrVdcuX784x/XHICb+uuRpSbRhyb6Vq8yJ0NjpFCfkoNTWGuZK/nEVz6xKcd2jZfGzBbWmpfGl1lM35g38zSwIqfyYhgQr1nUsXZNr4/Yql9rweuZUVFYWUW6pkbXiZY4vixgAuBoUAZSiVRyFGY2kJqFBiCDpX0Cp+KOcY5g0NER7gzXksuiIYz/SFyk4Yd/MwfQFq/CIEGUIx1tkRQ/ciVHBgJ5VEkDWnlVu3SNlzEqjetUjPTCJn/N6y5aX7jnofXVB5+pnzt9fud3e23acR5bjsfZj6zPOufJn7h9/mD76oNPr6/82VPrfZ+8bb350rfyXkk0ZE+sm3QR37Zrnrpv7ldiqt+Ky0bmoKcfaAYb4l76omr8FPPgnqrGDufo5TavivN34XGsZ3HOA2M1CKq2jxkzT03GnAAX13w8ipPmsOds+paccpVIAFHBBiMaihXBkLBvhp4XI46a5+1HjxZCYIqwrbNxrYPwKQ8pahNbdAP3JQBIU4WacRCSJfd2YXQQfURfHGhNLI9Ypzza3GyQcpQugiiMKlp4w4QuhVN4s8lvu/fhded3n113fe85/XzXx1w+coxvjtP/0Frs57PFB8fz+cH2LPHiiuD9n/rievOll3uTT518nj5bS+kgTes8PukYNe6+dccsLvwrn3ruFnhgpS983CmCUbSa2fGdnXvAidRbXdD5qHlkHtTlxLPOrtc9k/YFMvMkTGsQvPSiHRjkC1vsPEYnr8fmW3IBHtPLYPgGQpFUXtsJtUsZRMDKYB/GWZiI7d1CjyI4RHcMxTrgG2LBjbo5TwzXMjQ7O30J0s2zeJXHzHAoOSNksJUxPMEx8jiKsJQEXlOfPsfd9efXa177xnX7vQ+vu76rjVMbnRs7m00bK5vvziNXArbPK4q6Ypg5spEPrcW2Px7y3W7ySy7LJpcW4ihN2Bfq7EGNntZl9m1q0znUY1xWrr5c/uyJdGYz5mx1J9mH2Hm0zdvIJvVtY+dS9zH9Lp/U024cyyMmcox5KPzFbasROVM7ceZUplZihp4ojBg+haZgi2KBxDeg1BVtxi4cH4ZQGfjLzuPIlT0xhxw+yuFNNgCLcNuJMQTiR4GMx7XKr8QzdosQ4vPIc+far0vIziFc4glf4h88kytL+3ygnDVBimZru8l56+nNemSDzo2nTbfd6LmC2McjLpv0uXXXd59bihtr036w7vTteNzzyC35sZs8onhGq1fuDQ7U07K21nMOt/OnmYxdgczrWrNG5jf651g+hY9TCnNfEcSWY2axZlB9hdmBPIBQ6iafeBrrZh56FpTH0cbRekgn5mX95k8fbSdqicub58k7icOFysJ3BwhbGEWIxDtz2Uuk8FYO2SdJxFrQDWind2rhcy77lahKUE0RWWMuHqxMn3BNQ5In6zi6S5WzfNk22dVT++qC41LLDYGNGNU4nXZTUa9vyR/pu+q10cbGPnLLfXTzbu8BjNhD+bg2rhAO5t/l2Pn0Jr+9765bJ2kaWdz3aFU+Qyfahk65Uk9LHDvzZua6Rxyo6h19Kfq2V5lF5YpNGJEL63101zIbOHo3Ig/9WDbxwjB9EkqcjBk8OdPSCZmd0vOKdc2Uw5S2ONnOAqmrHLtXvM1rhK7SyZtwiVJNCoDOUaQNnsSqYe2n/ALJGPocvSzWTUaCOQ/56Fw54CcB00i3iIbGb5/gamW3Da4GNO7U4ZG6dn3Z2tfqjEYNm2tvNvluE2XTbm+x58bb3sLGn8djcm18Dt6C7648jvXBLTpuyZ9e7//U7Wt7S948SydqqVk6ohO0iNbuhXo1+84t4P5k3f2uPnZfVcN210bOo/OQlcYMLB2f8xxVIxzKjwyC6zDPmkzzTQ7iKg7A4Q2bNaab+I6xF8967XocJQQLEmiSNZkJxu2ADKKlXaVBNvhDPtlgPAYMIUS8o8dsWLZhR1R4jYFNcUMtjDCzp0TqvnXz0ki6qLaWxL8bEp28foSj2KLeRqe937BPP27y1120br/3kXE3+pjNu9m4x/j4VvvYK4bz5djYtIm3Vwq6u681/Xlw53cPb/LimJnKcehQM1HzMDQefsmV7ah5yJyOmPRSjmhhzaVy0KHmoe0K0Gw6mHPk+IEdsJArscwbO4+eyYF/w5PVM2/NQTmzczrH3C9c5VzZTig9d+KInHgKjQS0TQlWiEuQJCZd40lMbLXJw7lIWTCTKU1sRynmol1gaRIQLOinBLOmctJqaqFU/hHnVjSHyGNjxxIW8D8K+mLlbZtySDj6WjusK9qNYX4s6WTbWNVILvnIN5v8yKPrB+5i18bdbcbaiFjPT8Wf/8qgYnGLfTDvNr4wfE9XAnh67eij6xYjmlQvrSN73D49DzRYHtjVFy50p2SvPiRPdXLTT/Sh4p2SnUs88rI9MibL7NW273uMPXOeBNbvsnt7z5x8gj/zlKkCbMWKsGfLkoiDcxG6yTGmnifv4iUCpz5FRZcieSOQBBVxQgqEPAHmWOcJaYKtjgWs4wwKSZg6GCx+1YQ9oWbYM8AusZnCIsGYiqKIq2rYt4zJ29jpMXiW2EKgcSu7ckcnZZ94cB6fNNK18jf56y5a2OR6gGxuqnmuu9Gbp9lqI+cuPPz3MbHt74bP9b0Nt9L7ta0/7P03+XwKzVytlZoqvtVLKUhdoEj6Ep0lLfKkj4n3nMGwmQdc5v+qqkBvElZQrfIRRtXd2icWAdB88Jwzuu2lERFP+ZCS+870wlsgxzxQE4KXP+tTn9RJrHSiIlyyPt43lMq1QL+fJ7dDyKRW4FlLCkSqSS7JBMUY2g6+KSkgbF66YIJqiXxVJ2I6noutncg7qoFFV3XKjY/w5BF8vqAqrlVibmuWkOFZQkqZ0on1kMuC80xBk1PsogRA4e0H3rzJuYEP3ppuN1jf+h63vt/o4/KR/MN25ErjuPxY3z6Ftn2eXJpMnaTpGEwu6FdfQcI+ZyZapomH5sE2FIN7XXQurbrTbWfNzbwYS3qZREqrvMw/MLImCnY/zZz+msPm4FTCYpzwT7yDGFDzYz2YC4vlHy7MQJZOxDSbTS70qWiBLUkEnyC0psQkNJsyz614+Vu0uqykdZek1i0YcGWN4Ck+K+pKZOSbHBJjT5o2dtQ1vxwRo2XrwFpZahzSWD5dJw3uZkYv+biKgg2lc+aBt/0t+bxbnL+Bt5s7mzPHbMj95awfd/xp/TvP8bfkrYna5HlxTyFCNC8dZ7/HeeITw7hs3OHHbo3ZSc9Vp6ZhMzvMWfPQfQo25fDm54h039Rj9Hw/D/HpeQgHcs30DexcT565bzLz5kVcLiyMqRU9G0v/Te7EASq+CRQBJVPT4idQEgVrk4TE3uaQTwOIf/LFnry6PPIPYvJRzcQLozev8SRnfA4d2XqGCdvWJ4PaNuCWTxofHNFHZvgEJ883+FtX+ORvcjzwxk3MF7No4/Vd5v1GPHQZa/m7+vz2zpsNG3/Ej/O6ZT+8Njd5Hl0X93Dc6tT6SZ/WybpudIqGsPF/a68N27HqAa9GNFjlxwkaazUnYw158rOdB2GPTdAm7u41bI2nz02nZkEzMeZ6Nyf7GsGfWSLUTnokrzAo/+Z5chrGNUaT0qZBSAgcPbYQIRAfCmqzynbTAJZ+ZWcVg+6mwg3lCYEhbigh0Upj55NdMW7ewK8mjqamwfbpYu0DnFknp+OuRKoOqIXrBjzYFEeVPrDJa2NlA57vmM239zluffvo+PaewT5HLiPX4XzY5PsH3mb/qy/WQ31RU9OLagGNlpo67bSierIz5oCWcvEM+N5aMASXhsn98dyzxwGiAM/nbg7iYyJzHtLzynVgHgoDx0LzqzjzCh5JRDpyFSeV59VZRlJIMpPkLBX4PDnBGIiIR1QRIwGTEbhhj4DTboBFnLgNaGNjdzTs9kH98OYZIZhYUy3Igp3c4tsYO78CnL2ap8uIpsCsrBjl8Hr503M0vXXoeKK3T9uZzxzdUjKtZh26Jd9s8sOba7s5X4pPNuxPezx+gwNDNvkHPt0PvLWGex2so2cmGlQvMaieg808bK4w3Wt7dovSSw04tfbgsw78VdDTNDfv+eahOVR8FxXamtXg9yyImNiaw6jE9boskJs9UfPi/E5UPmHKai5JBM5VL4bJJtgmiGCJdLmN2EgniMwxbG1xHDyn3SJpg1jENGF3FF7l2edIvFEQjUr1JmWp4IQqEcxrM4d4pKnJilwVWIPChpcCau423kOlMeDvxLBmmu5N/urXvnHdlrvrvNU838Y9n21s4nqA7cX8j7djEx93K54H3nBL/oFP94th9n2i6FLgeB1ggSY+Uv05J9Fr08vZ58SrV2rZmLvkzyhxEI6bB8Vt++l5IA7EKRF7WtiMXyzk43lLz8dUaZYKF/KFg3NrWA/qYm9Vmjolx3yraRMR8Cl0SrlWJWwqgGXC2TxuVJORD3BEEAcxX8JVY4orGlzvPWa48GuhjYKH1GEtEkYw/ikmYqtHqheeirUOKmDOjR3cASI6Ia+QJv/0lVV6CYJgKIfI9N11PU+OTXr8xtLTVufxycbmMS9W0VtVsRmP3gNILW/0xNe9idgPX3kgJ14Mc2iTh99QSFoV/ZyoP0d0SkPm0TK6DS6RPOoke52WZwPShL5xGJhFaVVV68ojV/lyfTPTzsFgd3/MQziQc8HqeWn7mAcB4Vz1PImFTElUpEjClGpfpSYja5NrhL1mgojEaWw4bmoIMJ0k1UYwORuM7b2xnCgdUilVspARmNNQKIKBNNyoRlhYAJR4G6NXVIkXYhPGaVf4Vgcpod/a2EglPIcxGo2x0Feo1BjyVA5ptd/kBzZVbTjcPc4GH5tu2HPrmhe14L3et97z0Pqju/6M9xTwZpLtRp95dKUguzc9c+f8KLZDD7yp35PjMfPAZXXATXXHdUWpDnee7vh+HtJFzYc7UFfEwKN/svM31vxTZlYfHWfYdh6CgUeYzIE59KuzpER42s6LihRGrOcn62OOS0/YPD9ipFkWJmnWPPEGlU2SCImj6+nUIAwLmWkPVWYpoBSzNoBgiJ/BkEhyORlLt10N0WUSYr5ht38BrXiTtD/tlHvEsiQuC4ORUNYSMmJvdJg5YIgOLO6L8pEiWue5iglJtHMN1ZybHC9rnRttbsB5nk031+Z5279wz8Prbe/9+Hrlq96w3n3jH687vv0kaxx/Fzx5gCPn89i559/k21e8tV7SIHqoR+HNXrsXPD/SL8xZz8uMk4TqpfJk1I/WSO70JnmysdSiquR5MGYWwvnYF3MmaYhdThoPYZv8WbcZHdg3LkLOOx5Th+TY4IjGxpBvUBFZgc+GCqhI1oKIiOxuIvPqPPGd89C66Q9wM67PRbAvFxoK04pv801/+uyGhtp4g5FHhLM+bLZ+kaxcVTvn7Kl9siYUwewjalNvazWvfHbreZ5cT6Ftby2z0XI8fCucjZcjNqWuLD75pfvXL//7/7j++//xf17/8cI3rz/62oPrK3/29O7WfMZlQx9aU96JYd6S94thQFA6SAOfU5PtXLAPB+bBCepGBnM1+4uuJDa+OfbMtvb0PTIPysk42nyF4nmoealazkK8GZrZb9ejKTxfxD40mRyLq+2svJmh5N/qQi728wNvEYF6aQMNweeQpmmmWeIHTOwRWMcIkTo7QPvGVe0hjBJT5iIa4oiP/dhcLcaWjzExl+rFzt25WW/806e5iqeaZOzFZdbPYG7r9SY/9LLWbLr9UZtwu/mzMbHBn1lfefCZdf3Hbln/6z/5V+tfveLX1z/7v16hW/MHHvcmj/8+dy6nxvTzuW/l5ya/5LL58U9bjj0PW30yP9Ku56N6TR0dg56k37mCnjpzSrpX+9zpF/s78lZOrNXIAktjFZ5wSk9xuX2SH2upnRxtQ+ywc86COesFQownR2JsnbZ5tU6si+8nd6IU6YtBTpL61cNJ0PRFQpzo2g8nAk/1vUxj+QzXnV2J6vcmLIScxrVL3Gq2cGgMTJZOE58wQhh3R0kNjIIBmYBsfbxo1wKzybXzKYwbHErLMvzCg7PrR089vf7Ta163brvnofM8kp2Ntz/ODdg23Frffv/j64K3XL3+6b95+XrzNR9Yv/RP/8161UVXrFu+8f1dncM55i32cXfv9efFM+u9n/zC+v03XbKeffY5fUGENxElqTGJthJ4aqnzaU8btMaIBGAprpnf1Ds0D+l3RkHi1w0Ve0hbJe0bvMQEQOXigujplOeaBw6pWfe+UIqukSFCSgV7hQta0zyDr+LgmqJY8zKvDAzA5vE3OSN87aAABCKhj1XdCWsdkVsfFR3xxGNSoxnASXSCpnp1rrwFuATw9hU0ESVus5aCIl1KxDk+whaek3udhzsA4Jyhlto60RTutVZADX3GuElKRqZIjc/8PnXy1PrmPfeuf/1vf3Xd+s0fjM2XjZdjb+Cjm++oz5e/86P16a8+sP7Rv/x/1j//v391vfHt71n/yz/+F+sf/otfXjfe/s3d3/5H47sGbMfZ9ScB7jW8++O3rH/78lesH/zgh/yiCH3Di3pZ88S2R9eep2hM72h+ZB4yax5y6+52qVc/5TzUJgEkdY15eO7EhDN7jHMtDt/myZw1O5oJ/q649iVvz5E00r6oKOMSFKx634SnEnveZI6GiOmXtbpIOBoClRRZZt5s/JAsMJRIzZskNebyqt0XskLustMnG6LzARN/HCOuscsUcnAlhsqPBQnQQtK7cobnkbhClysH1VQ+sQOv/CcMSBtsPkYf52MMvsHj9Kn1ox89uS6/4or1D37p/1i3fvOHuwfFssH2m2xePuqDW9fb73t0vfUPPrr+m5/7Bd6C/58vf+X6xX/4T9d/+9/9wrrq/TfxE1b7kfaRbz7YhvODL3H1FY4fJMQm/4OP3bx+/n/4n9bHb7yxvhEmPKVvVNr1csxDzc7QCafqmzcXe7nNse3b4XngELhX6l/yejZGzcLLPqqfXEunsY5z91n5ekbiO+ehMDIHLQY6ZkVkU0X21NjUUwXOmWN0aF1Qz5tcBLRpVLiBI9EIomsTUQMNlo3abi4RRHznZe6ADSFw5LlFP86uRNrA8XFdZMg/9aUbwH7QaCyjHuPYeCVXI6SJ4tIA2QVZugiz9GFc+FgnsnKDpp2ZiPssN8MXv/jF9Wu/9uvrX/7yy9cf/+kPxlNkY+ONp8j0N3g29tFbd9ixyT9z53fWP/vlV6x/9su/uj742a+sj91693rPjX+8/sm//pX17377teuL9z/GT3TRLXbX2v6Nj/xHa7WPbslxZfGeGz+//vd//E/Wq1716vWDH/yAX7ckPaVh9KB6Y16yXlcI1iw6HbF7nmCf/fAFzX3mgaU9C+lPjQrWGVXzVzmGb+aAR+JWnAsdmMftfHBCwslHHjY1el6jg+hl/nrOCiOxiwx0xnqOypH3k5OemKYh9reUBsxaOW9AActjimoxHUgFCRpHEwwYNT6bXKFwIfBcnBjSYRLjBa1wwyIbpVC86NmujPRwfkJRsQ1GQFUiNbUwmlHZXa3slZeAQUp5GZcrQnw1z5n16KOPriuuuGK95dLL1q//p9fwc9exQfuu8uFNfH67Pljxw5/76voH/+ifr0uv/zCfNsPz5bfd9+h601U3rH/18leuz33tuwceZc/z8Ko7N/Os2eu6QsEmf+8nb12/9du/s1772tetT3ziE+snP/kJ/zY3eYmZ/kQaim+hs4FKp/08yG+0Rdran81y3owHZ7rsWE0v6NEbVKZhZxMPzkPnTC4cdc4A1uM0dHx4ev55CBZrclAnIHIMx4w4Ob0qRXvrJNTmiW9QqXGfAOvc80+6rH8AACAASURBVE0gIqEVZW2izsK4kt/BJjpyGJ7FjJ29slBaY1bvIq44f9W1TdVFUlqoy5s6sz4hZhLcSNjpIxzuTA6xbvFZJ8JoDzXEl9UFD4AYO6e+/+yFF36y7rjjjvX7v//765bPf3696oLXjw+NOLq55yY7/7luXT9957fXpdd9eH32ru/wkXZceeDBuE9++Vvr7e+7cX3+T3/AT1k9mitXMjlOLIdu1XWlgi9X+P03Xrw+/JGPrEsuuWT98Ic/5J8jcwNY6SNapt81QWxRtPPqeebBA2eVex7SxMPzID/4cCN5FzVGXRFUDo9N2wc+zwN9D8xD4YPfrGOesROHfehpbJn71klZMvOxNw/VqRfDiIQGPACYzHBSmFdG5N3ksk0iFIvtgbFHUij5yy9J7SNoyJ9GRdkZby85WR/Ycw0muw1ikfzJS2cu1mBMHRI7MypE2FxsM6xbnZS7eHpAgxG34g8//NC65ppr1rve9a71Z3/2YH/u+rhrfvwG3N/SHr2cR9f772754EMX73jg8WM2+NzQL+0cVx6ogQ9yvPjSt64/+ZOvrze96U3r85//PL8yCQ8uQi9qwSMuzn52rzMfpbW7k3lIj3hkZ62z87Mv7nW05jRE/8TYJ3lVV7mIVY1XOiwLUP3uXh83D+IUvMlfGiAlsmUe557xJlcxojdqaxguBXf4GGvwbT40IjxotGAC1A0QIIGjTRjZMMW1b9kJxA01ETDb2xlPcpbTRLMOsYiRdKlQbTDamDvYCKmHysBZk/Ol+skpiSb2NEA1OQgh7zrEtePB/HJurNOf56h9dp08eXJ9+ctf4q34V7/61fXEk096k7/IRzKf9wpgbkrd4h69659b4v2t9Lx89HzePd8/0t6b/IsLz5M/9PDD68Mf/vC66h1X8W9zfcspeI+++EL19IBOnJNsr9KukrTGo6fsWPlu56HzzXl03zMjrJe+w0+Yc6JxzvwaPX1o6bkemJijZsU6EJryEFcw0881SyNNKH9Hp+AtHyKkxsmHCy8jRATxP1QtRdMNcUNC/nTx3nwJa8LpZvLLQ8lrTfpRlGQgOItstKmaVboSDcmlAYoUAkEVPqNW0WaRpiSHoFmHAmYNkE9rUcrpvI5V+cCtdPIaYnOFgCXYcSv+ox/9aN1www3r2muv5fkzzzzL70KrD414yZt5buy/+Pl2Ex+XZ27+9tlu8ssXuNx7773rzW9+87r11lvXT174yTp75kzp5BOrMfWFpBRxoyMV5pxu1FUaeyLObXJe94Xp3QO3NvVRKS3TvKTPabmx0BE2J+BR06COFghv8s6zQZxZSJ5WgKn1K5hcu9hYm0DgOnzFkxDBRifipRfDZAAdYQ8JJluLDh+nMlgWsPidwWJ7fYIIJGtkzRpk5QDW+nG+GKsxjc+8Nh6KH3iHlTzgMPigIFayplPXgJBlb5/SCVG0K4N4hkNik3+tEydOrLvvvnu96eI3rbu+dhcfhc53ofFrko59Tro31vZu/OHNt73FPeQz1+b5rJP1HKcN5/08eV67/tzzz69nnnlmvec971lXXvk2/m1+6tSpqD20dO+r11IuKrIH1HanpWe57NEfPWBf1cWy17p6fqiX2mDDXv3WGnM5T/qe/JmZrIPVvgazJP6gHTHmyY1rbVxE8dFBogxkgWf+rr95njwisIqFdkWWQrYAC1CKSTqEZA+RG/kExHB2sWG18WEdYSi7cbWYm85rcw6MWCC8nFQ81ktJ49Zl8WxxkCBrB7kjjFg7nv5eI6foIM/S5umnn14f+MAH1tuufBtvxfE3a3/803xZKzbW/JkbbG66+LyY3THzefC6xzDzzTzayI3jqA235HiePJsc37WOu+hf+cpX1gUXXLBuu+229ZMf45F2aRqdqPHQqPrtqwP1O4NtnUcvaWf8X3Qe1O+U2+Dy7GhesqmEIbjnke6Zh/RbW6/6Tv4czJ0OmZmazSDxvpl242Jtbrrpw4Lcq8G2+dAIliUHATgkoDB4I1iZAp4GDqDJkSuAFK7jBOw4ihqxRi6cIl/qCW+Ljpy0S2140rdqJZ7r3uyTgwVLScWpZufoQSMOxxcu81GO9o0O+Fv89JnT6/77718Xvva16/bbb1+nTp9a5+YmvyffapqNm82XYzbZvJzzHLMx59NhbTt81xz29jl6T+E4+/aWPJ/xhiuuJ554Yl133XXr8ssv57leAYfO9JUt+73b6FmLrnVMcyDt7F3iy+650BTwWoL+9lP+zJOvRNy71NK4YIZkn/PA3ouEKiSvMSmHMdLWfJmQMzjm05erWBWdOVhQMx2s4Z34HBOfv8lxWYUFRASKWSXlOpI4kYSSH8+HrcAaTMUC1AAIP9oIatSPWPaPT9U2BsaPc+1T1ZAvRPKPiMJlU7MuByv9w8valBwW2jXJO3nDhQyFoXSwDbduuBt7w3tvWG95y1v4SjdsBuTJG1T6yxWO21TZ5C92xOZ7MZ9D9rnRD+U4imv/NzluybGhcRf9m9/85vq93/u99bWvfW2dOnVSf5vPvv4U88A5iPbReeR6sXlgKcZrBryFdvPg3p1nHjiu3jc1be4xe16xZSXaOQ/Eupv72BEVOzM4d9bLlvipyW6tH11HUv7ra64a54CPPXNPcb1hIriLEQT86eNMAcojjRI3sbEzh+3Od2STj01XMoaca84NWPHwISzxBD41elzZDDzUmpfNM7mNS3bzHPiZkxgH93WOr26788471+/8zn/iXVn9nara+Zu8P5L50Ab8r13bbuC6tX7JVwaJz1F45iavt5pao+eee269973v5YNw+DPl1OnTNRfqCy+qD0Nfzbm7y7a5R87L/o5ept/cCF7f5qihqU2tHOm9Zm7Ow3Y+CJHTwK4aa/uLBzkFIwDwH2rMGSJA5iqMcvCaeGuOgq+Y9b7JzEU3ASNQ4uDLWgtMQVERufGc5SwyvAR7CO61WqeHQIYw45wjUItAMsIesFkzPq5v4pU/OSq/QBRuoQ2WDBOjzJNFzfawXR4ROrEbJVp0LA/sVf/cWb4RBY+oX3LJxXzADbfoZ8/iEWfl7k3+X/cU2ovdepf9JW/sF79iOfQ3uVXn3+bf/vYD6xWveAVvzfGgYwZwqsnz6n9kTBY1tuI43NK6PaRj6e/WTnv1g5qr34fswrKdh46l1T0PhtF3YkvWsZ59YY5lweb3f3U2fYYdfvTxjRNzcCkZpFN8oFffkjNpkxaAbGTkxbmEVxrbHCe7LfR10YrTtWg1yYNdlxPjfIwOOV/DsYYotiSOI7jUotVyMZ+wlA/peK0zaWs6B7lG0OEfvISkCGWouKmTBEMMnjLD8+J33XXX+pVf+ZX1pS99abxLS1rm7vqhp9BqY/JBsu3d5a0NGzL27a1t3Wqf9+/ubOgZq/NtnWnPy1rxhYd4nvzypbvr0uLM2bN8QcyVb7+St+a6cju7zp31TERnaigtNE+ZwvQSY9j2I/MQG/J5ZtJHzZP7kZ4PH+ZFudh4VD2ms032xoE4RnlWdS6MtHgulMPr4enAwljr8ePgkYumFb+7NrBIp64nnkxMrWD3RzI3NcU5ZURjLq1tSMSunJalQXRDUjR1BErEiVPiIh/+49G+FE9k2RMBqFrJQW/Hbc6NHWEaClRIviESHYzdGGpQ6C4gaurEmYa03RWaC99pdpoPPF155ZXrne9853rqqafG+62RY42/yXNLjo203UzYqL3Zhu3grfKw1yPo2cRHj5X3YK5Zdx+rB970irexyaUAeeJK7v4HHlj/73/4D+vub9y9Tpw4ubD5ayLc3AxxejV7qXnCSvo3zjMIaoPyvtR54Bgwq2YkcbWeeeUC63MOWEtxPbcvZR40Zxy5ytFxPeck6jG03TypkxPIP3YuUpjoVO9C02CKBAUm0W1hSWqisNePxRZ9C2Xv5HE7sVqCkGBWdGQUY5hGBNVTZt8Iw/oj3vmsSuETH+ejbs2zfFNDyoziO7xQdMNz2qEJC5itNDp79tx64cQLC+80e+Mb37juu+8+PiBF5OEwHnjb3pK/1I16nN9cn+fZqHNtnsc+j7DbZ3NFcPjRdSjTHM/x1hwv/Ln66qvXw488wte0qzfSrYaVE6K+UuvSqHso3wz0rgfp0IF5qH5nBI6bh2kHDxb0zANfMGUW7NN7Ir77eUgqc/akHOZZCjKoc9Ob5DONumD/YEXu+Tw5nWPE0Ztx2wQB7zWLy2QqcFCMsrdYmxxYdsWOB0DnL0GZyCoZIW0h12vK3/6bpgyejEwO1lPdwpGG5mjf4I9OhXX40ea76k8++cTCrfj73//+9fzzz/Nv8eRI8w4/T45Nls2X49x4OR8b8OCt9nH2mXOez7zz/LDP/Jt83l0vHc+d41OFuIJ79atfsz73uc/pHWq4NZ/6pwdj/mT3PJSvlE9+7bFsvu08yEdjE/+D8zBqpif7fcGJJMbexPAVRk9xMDJf4848MPe0+QoiObqGY4d95qD/MfumcvUmbyDEa7IFPltwgve5kqH0yIH4YW8w8FFz5uba5ug8issVg2oYShCmcB0lkOuoGC+Ii2t3SuIUKEbat+MnD/WyuSlCl4NV9bGmWnh6DA80/cmf/Mm66KI38m/y03h551lHR9Pckr/uotWveMvGPLSx5sbL+XHHF8uT/Dkeumt+NEfdvT/2W02tlYcUd9nx9/g73vGO9da3vnU98sgj68zp0/qzxT49c+qBlrcaW1yOAn9BQ89cLseouUw/uSOqx7qNda8yl2qyfGqOE28+1TOsj7VMpXMYlX0ye4MLayp3zY+5cKB5zjNRjs01GTNyNJa+cYMOfO16hG3SgDcF4SUuULRBXoVQafr4ci2ZmDMwu3aB72UM4haKBmNIA5VO0kkyYZSmZhvYzOPmYG1C5GXnMUbBUQ4sVc0NBycyRooanbCWJrg2smCwn3zyR+v97//Auv76d61HH3u0/FAjwBCLW3J+g8o98xVvhzeuNlg23mGfvgdwnP2lrGvj94Y+HHPoKTTOhnWhor5X8+Uvf5l/tuDNOfgzBs+nSweJSR09H+pSmiQ35k1f0gvWYeMs6eF5oORuI0q4onuieK4xfDsPVdebDDhZLBjYf+fIRqwKqiRwAtDxnreaB1wePkzpeQ2BKhOMsSfWOfvFMO1AEyoolvBJTmVdLrOJOCwpwJd8zVWXIoFiSyCRTmV590ZRAw7lQDn4uWxlN2jCUVbBIsLtxoqPTMJFwhONakgHo2MTnRt1XdIVijeYQUDcip88cZK34pdeeunCO81Onjwha3JRZ+Wsp9D4ijd8Iwl+8vfuoeNxPll/Zt354Pni4rf3mXXxrSvTnpjpo7eZ4u2reKtpfVpremOhKNe5s+vJJ59c73vf+9Z1112rW3Pcs6GIQ1vPG3sdrZPPRw7p6CU3TfmoB/xdM+eGJWbkyUyxOcnhHnFPYM3hRJmcwbmxKwIB+K9ycmbDkSA4J3uMioifivIS89HbCF2Hte1Pd8UEN59COwJGk+1EIIcESp7ArNFiMvGRYIpRuf7NePjLmXnj2UdtZMOwELIinkhckxecRedZEe7gTUGXLW5lZ7GugTPwwD+elz2XdORyEBYmxOGz2/SI+vXXX7/e/va3c7ix8QdCXzGoBjf5a9+4/vgb3+d7ve944Il1x7eP/nxprOE8P0d8Ef/AE+tLPuL941+8//H1xQce5/od336csUfiRn5iOAYH4goLcj/w2Lrhpj9eb7nscj7IVkpBR/2Pwzp5Sld8eL85XtuOpxbx4KS0Hnp7hWpWDmkbXyaG2jvtGVq/PMPsZ/rW9bpi1lQjM172g/MgJOHaPF2TGEY+4lTGI/sONttT056aQttVMb9RWeesYoyIy099aIRcA7UdtDJFVCiLHyhKfzZEOSI+LhFKxWglduYbzcI6/b3GTUoBvPl8npxExRheXXrzVFURjr22Lez9Q2/7RA/ZC10NkzLrN63BNnK/8MIL62t/8rV14YUXrptvvpkv6Sxe9Cc58Tx3buGdWxe8/o3rPX/42fXeG2/5qX7eN/znefLc8PFb1rv/y+fWNR+8aV33oU8vXI7tL3I8VAN5Lr36Peuqq6/mK/tqmqbu+fjpH/2ITyW+94Yb+HTimTOnS4eKc+9rpiwXNWRO9YUzFP1rLjQH7B/W+MMS3fPR69Skf/Vw9Gc3J8GUuJ6H1IIF/+TBs9QzHlnp1PMaXuZRWcIhWZ1rww+1HF/1jj5PDlgDJAIsDkWaBVJUIdqDJOQrhLI7B/OKVpqCdCrhupvaySMfF1AFYyIc5KBOxu2k1VTXcCHGUzhzw3q4TSzxp529Ng/4C0U15hAf3GLjufB3v/vdfHMGPtQQa6yB+ORJ/XNrvXDixLrxEzetD370Y+uDH/34/w8/ned9H/rouuqa69e//7XfXBe8/qJ1wwc+vN7/4ba/9Hrnj3nfBz+87vjSl9ZJvq1UIxp95hEv58U70y65+JL1rfvu44OTsmtbeFKGxmMeNMGa7+o3h6DXhsbV4zGr6a8RehC1qdPhngfV7phcFlanHVizh4w5E+qZC09D1zzVHCBWcIibPIzLPjOOCOjfNVlu5HhZEnKjEO0Y5gLVRVm41i2HE1IwnEfgADdQ2SVJiPqScekSSXhjsZQ40qcI0MmCwF4/BMBLiI1ihkxscg5oHduu8UpcC93iIy0rhh+OxVmfo4676nljBl7d1i/llD6EP2KQEy8OefqZZ9YTTz6xnnjiyfp5/IknF36wNs/js7flcuw4fv8HP1yf+MRN63/7pV9ar371q9e99963Hn30Mb5AZ/olf+cAlv55/IknDmKAD2OefHI9//yPdYVmnVobD6Ifr3js8cfWVW9/+/rIRz6y8Jr2esZBXdJvtoeTo5akz2wzf6n5ErTbltZ7nap7Hmr2HP5fNQ8ZBdbJRss8BBoLk49qD/vg0TopTpeJPAu+IvHFSb9w6IrFUdSj3moq/ojSD8HMIRTOo7dAaUgKMrybKTpOuxMCtVI3x6wZ8xAmZI2PDsourF0Dl/lvYiEv5aDdPL3S4gkIk8VP2dLASGQcOOQ/LfFvcbwp46qrruIPXq/OW3H42Z88jSHcUQ9/m8L37Bm91p3nZ8/yCgBruCLI2vZ4hrYzjqNfzvlZcg+v17/+9etv/+2/vX7hF36Bfz4Ao3Kc4fP2PEeN1GH8sJ3F+d4ePKoPO3hYbp6Lqzra83COf5vjBUIXXnjBuueee6gbcHe8NVY3NSvUMPktuOeIdWIfm5x9VHl1KrqPXggwO1E+Gw7Omxrh1ONirLnCpz9mI7cHc9YzMT2zyucZc63KzX0T3+iIy85Ju84plXlFx/4uNIpi8YyMUNww55EWBaLBmovsjhkQUnvb9AhCUBJEwIRDNU28cOiyeEtYCmQAEzOaZECuO2tYJDd8kyP4p1jhXCWNEev1n/LjVvsb3/jGeuUrX7m+/vWv67PH7ROdGlfjoOyaCZvDVRWOYjSG4pBcOZ7jrSOexsPTVj/3cz+3/tpf+2vrb/7Nv7l+93d/dz388MPeUCO/J1vSKb+GSVgyWD0Pcz1KsN1wqfzVL+rQfcAj7fik2muuvWbhSuf0aT3SzliKlfwSJvOhfOov1oSnmsPaqakY+bbujgGe9Nvn7dP4W+L4++i07A0bGA1wtA4Fa8RaB1Lc8Sw+iWeNrqc5UNKpcXg0fsX4eXJnQ7IkJOGQjF3ASYPCNOhiNISCMPgX0Dwf9sTIPkSHoRTyqRuJSzShvv1Yp+zmEB70AwaTE6QaPq7TN3U6Xo0TkBawWCgH+SgpfHBLhle04dH0yy+/goOLW0bFNy+hV6NCVzoY4CGdWPqoTqXDsPN0LW4afPY5Ptf9b/yNv7H+8l/+y+uv/tW/un72Z3+Wj2zjhTmbW9+9TlNHwkXPoyUrN7fhm/4JWzQUt2iJI/42xye6/tqvvXLdd9+3+Ei7dHAMuzx0M4bk38yDZ0D4Rkz6G7svJwfpeJ4YG3+L2HQ175LZOpCSuzlyhKMZqxTs/Mm+mhide4PxgN2Y6lD+woBC0jzzPN+FRhhxDJkuzEALXqJQEWT1T3KYTG0XA2H52EaMQCkHReCAmwb8eVnHylGNGhiNp3PIpnhf2ewxcpbgh4TtUzVtr7qpIWc2jYH+OxNDi5du/sZv/Mb60z/9U94F5Ys97J9CEyPW8J90TPuMfeok4WtTzYFheHQKxnPn1okXTvADFX/xF39x/ZW/8lfWX/pLf4kbHRset6A/9sc0qcyoiYRSvupFA0Hd2xu3eGzt0YjHwQn3Mh597LF10ZvexNe0P/PM077SOfARzoMfuCfnRgf7UNOhg3ygMf5Xv5Nj02uktT051B31hyldgzmHTvFXEfdz2JW6cW908r4gpgPzEPyxiwWgds82vIqnNzkdCSYE6SExqIpowmqJhM8eiYdX7HNts14CjVwjTsJp3pUjdIIhpLYbMtiY1SJRkLBIw82T2dSxeEiwvT1iUc9uUMWXvZ8Xx2eo45YTdz+3DyaFg7AnB2DIMvR7EZ0qgiFbXLDRfu4cHzS76KKL1t/6W3+Lt+A/8zM/w83+1//6X18///M/zysAvCOs+kUwA+fAURgzhKMOTisq+odV5YyPeziuGPGIPK4Y8eGWuKLEvYvuJeE1xtTl0VqiPvtZKKhB51DNQrDz5dxxrTxclBnExDIf0oFr5LmNx7r+ob6xRqnSsdfnzCs21Xruu4L7jHzMZcgbbn6racTZBFfTVCRDwGYKrYnTkeeMR7GdvWFasNgHadXmTqpbDrspNy8YoWswr3HCYhV5TE1WHJjoI+RbzLiUgtoiUYxtoohlh6+4sCxj9Z1md9zxxfX6179u4dNfMKzRjfGuGw2Zg9jgFsTKLW7CpLKyS+OdToGihMJtzg8++OD61X/37/j3+N/7e39v/Z2/83fW3/27f3f9/b//9xdu3W+66SbeRY5+xdN6BlXx2Ojk3rsuR45g1aeJtXVyRoW613oV3Nve9rZ17bXXrKeefoqfg1e8zaUuB5t739q1juFztN/2UTJqFY44kqd7wVj4nW8eEENN0gRxnzmVV3VLR9aXr8r2/E2eyuOcOx2wanCNm9gJidOGeuPR9UHQyYqwTA4aYMtP5QiIvhlOH1WTmhHuDixFgM+hWKxRRORyncQnpoSeQkmemTN8cmRdObhGczMYicc6rp/aifNl3O187LHH1lXveMe6+p3v5CewYi2bBkfmrFzWhvHmDhu55hif2LupMy9Xo5MmRnXPnltPPP74+uxnP7v+8A//kJ/v/vKXv5yfnoovPrjxxhv5qPaZ02dcYNQbebZatA7sBmmJW7Rm6OQyNNOGrHLyOneuPlADzwDo1vzkRrvmK23Uw/PpFC7BpnkQLdmUY9rZHILj1s2vOtqXbtYh/drNg/BSIfZ01g2X0mmvj8rArB9ebj7RmfOb65aZI2vEdr5NboeA1YCqbEBqIE0WJsNKDMBQyFjss4mLja5qBOMVyrJOUxBIktKlNhN7KIRDOSQMMZRwbpRFUQHlYeRoVgpu8IqUGye8uGuJV7fhtelvvOgifrcZbsX1yaQZaGEJ9tRyuW6oeXN8AZV9kLJwmlrsOSrnth5w4M+Gp596ej1w/wPrsssu4xcR4k0zzz33rL70wG/3lE7RYqvTRoMUGv1mbPVQGIy++qL2I1NjjA+uEPFIO74yCp/V/uyzz64z+GisDG/FJNY1BNM6tcZT3+YVZ3GU9oPnENhtZv3EE7gqDU5kw1VpEAzhKTt5kkvwxy4FJl7WBt/8WLDut2wDLkoLE3UyJ2s2bsmdkZEGygGzIEShqG64gToZsCh8xDstQST3Lq/AGySEQJ6RU422GCFshw051nIjq0ZEj2iwJzlP2KCu0TasVeN6WYKGCz71xd9M+q53Xc8Hj/AWykOcqmxiC+NsUPPsHIE89Y7GiZ08dU6groVN9NDDD613XP2OdcvNt+hpPfCznTyzoSwRTLELC/JSkjIljkd500Y/arbDFR/mib54AZEe08BHVL/h99+w7vvWt/g8Oj6qmjCYy1w9I1TDouqQWkMnRJtnczAPYgmh4Tf7kkH0mnge1UFYXJ8TdUCnqcfUwRiJL9zqmHlI7s5b8xG8wJoaWeNbTdNYG6OJmtmJN+uVgNLCpOTMkUYYnAmzeACwppwhToNNrJsE3WM3aTZsCEDRy9b+jTf5mYxYJabEYgTxqKbiEGO7bc5c68mB4cxnt+EBLry67YUX8EGFwTJ4WinqlZqsE4wHdDSR0sFCqv4eM72MMQTEA5v84YceWle/4+p1yy236LPe1T7641dysqR75fJtSz+dfjsnh+ahtRTa/B76sseLnz3/0EMP8U+ej370o+upp5725+A5ZmgVjCaLi4WRPKJTzY/qhSMzIl/FGU/5p6bwR4fSKX5qr2u7Bmz8z/2MVomBaNNOrNE/c6P6ptHc4ptchd/xDiieequpm1BGk0XTkwiYTIaqZF0eEoqw9UsFQkNgRWvk9oKqOL9rJF7CJlINabGdn2Z3a4Oha9ETfht7RK0OiFphGA0rLRqDcurWB69ow0cO46ONcJcTr0yTKNbW8YwZGJQDdaw19azQaiw5FzrzCOwNf+lAqrYntjf5O2qT00Y/dwE4+CMMG7uv9YS1Mchn4se5OVBw5aSfLWUvjNIJZnxnGt7Mgz8r8Cq4Uyf1SLv2hXMxzx6jdNSmFz6W3/RT+iCS+YIzGph/cuxxUoLM/k6nyon1+m+r0+YKgj5HdZLMqlz1i0PrJJWd/4i9eUIqf1prC6QmDzFNnAVNjOKZDGFmPb4+Skl1UqIqbxFBUgtSAlQOIa8NgHUgHnbmFDCvi0fyq6YqKM71Rg7Ni8RTXHIYK3W03B4G5gIaPA99Qs9D43lefM84PlO8NJRQzDB1artyzHzC7NrGSYx1DtvEyMxKP/QR3/gu3iLilhyfysJb8iOP/EsbxSl/5zDOkb8x6/SvZgAAIABJREFUKE4KRSfVnfE4F1LlggZtTz3h/PM//3O+qQe35nhNO96hpnDjoBbIts1BndwX5Y5OfWSIfimn/dUTQ+Qa4XUvMzPsZuoGt7Zc+qpmmCflkR7hEB22GHe6FDfrO/pfPCt3x1LWrJvb5q2mU3gBGBuLey7ktE5SAVNiRdCQ1FEtGXFkbF+i3to2WJA7/5FFkwIfiWbpzHIjeGE0ijQsGGwnZ/Oc8Ud5CjcecMPHGeGRajz98/jjj9erx0q/1EDN/Mf6W52IjL724p6IdvJFzuMwmj21QIbyNVf+Te5NfjPurmeTG0vFB6fjJo/ShD6NCevBn9pkQRjm4Hxad//S99RaenPPj3/yk/Wxj3+ML9Z54P77+cEbrFF+rCI1owkxZBaAx4xoF9bCuZuHyVFxQz8uzHnrc+oBFMfwZF7PU9Xw5a1O2xyFk5yo2ObKRpDGlSYxNK7qpedts8kFSs5GbjcnsHITRMvNNjusc0gI25KtmmXx0+w92NLaRHfxqm1QjiXBDJRFCungLsEP2Il3Hw8cNRjg1u80e+CBB/iUFN5owe80Q+xOJ0ZzXTb8nnWUmqthKEWM40hTXSA5xM+bLjoMDsi82eQ337JOz02uatkWwiZQwgPC/imUB3gSD3NJL/E0Ls5kz1HybHshXzyqji9jwIdK4Ar0uefwwZf6Ewg1tnoOLcPdfOK7raH45KB20ep8OlQvwmEeJU9pRG3AMDpwZ1PX1G2rfYKBOkuHjrda9ME0WNNRIbNQnK0FIscbVNxIBM6mOjGT0OYCw8fLHggDnHaSbaIEEsDcQIRdA9V2GVnb+SiOBRHZJpy44FfcFs/ep3wpyiFukHqLHTlOnTrNp3nw6asXX3zx+hH+FseHMwJb6dRxrCMLiniTNzbQY5nEEk/7aVlt53nlYLXMKisc4Yi3seLR9dxdr00ufB3c9aLztBE3cRl3sM5e85xRxtIcW2tKoKFPL3nsdbzcFp/o+nuveQ2/9hjP5WOjq5RwlibRwnSkSHx6nqXLFs9GKwlLEMiRWlgOdh550VqV384nfKSCZRSWrimdkBNr+QmMnoe2yQe18H/moe3MpcDKx01eAQGGI8FbIJMSpE4IEUK6cjiuwcBJ/+ivzG5wMsbedZUateTD/M3JWUxWiU0KuYyRpzovPZxoCiqRG4Mum3vENJDE4TXh+ATWX//1X6/nxVXOIPc8GS8yag5RViNMgSB0Hg6JaamjBbGwqPpApQnbsTk/sMlxJRWerBdf4hS26BLOuEwdWW7w5LpZMZn7UhqgFDAJp3TSmuB3j5IVG/rxxx7n22M/9rGP6csY/FlwymM9iDtaWgcKMWq+yDyEH8OM0ZQ0p44PfzKlg3UyT+o1ffc6BYdrqNnJEbzSyRTkMnqj2moDdbCkwpseWAeJu/zlCjBKLZ3F2Wve9GwwzyOqoDAGrjOHVSIfA5FIHkD6ulGKlKDJr9JksxkQr0en2aDUl9id20msqTlZcNqCu3h66EQ4iXhEPXx/GR5Rx8cK46Od8Akw/T5oCgHGjjZfL6sxuiDd3NTBu4ZJUCOb6rtx5Gg7C7Gec5kbW2DteUue58lvGXfXaa8umaPRW4/SlTrBhcgtnc9ZkxILCSmae2zhmJqbGbEmIw5PTeLW/Ld+67f4gY8nT+IFRsqpZs4YQt/OEPHCJxqXeHJ2l8KneuO4qmXcc1aUMzoMDcxN82msuEBVrJ0KlU7MO3hLZuQ0zIGfoaIkXkxtjuXveo4bL4ZhFWWlUcBFVPQybSFvD4MxUdYbzTU99nMnXosbQo6LCAzKmmUy88JQWIWRmVSsBiIcSuqol/wcQtSZPNUQNlPtoB23MKdOnuSr237zN3+DH2F0Gt8vDhz5L3mDbWcLxqMcgsFN28czz2yg/ZOf/tahOLIB49H1fp68CM86Kk0mmbLCidVRQ/FZE3t3qfUYuctWec7D0x/f/Oijj6xX/e6r+Co93IXni2Ogr+fqCMbUE23zUGOLhznsczAXI8LJiD0YiK95KB06N21Yz380KaZshY9TUDodsSfPyEH84FU250A95yWn1OART6EFAzdg7XFLmGBqykQbUUMmRZijYwYEhdlPhHZgJ3CDC3AcuyHIT6aqHuG51gOu5ZBLjOyG2cKknmgyv9NWDTbuHN6ffZrPheOrfvCdZrhF58tX5Wl5Uk/Hakr5YD0/1qH4a7BkN89pE3lj7PzSVJctlnVSPtySb55C49cHp99kxwuTd+tkTMBvrWTjBCpuchvnwmWOUsdWr6WXbJVwtDZn+UKjz37ms/x+8+9//3vjrbvClPzhT9JuOzFKQi0XudbJ5R0mfsqF/Po3woR99k5CtC6Du+KTM70cWsK3euvz6JB1hMXP2neMNARKYUQOrxkj4I3nySM6vBxVBLJkwF73ahHs5mxzaH0L1qoSHUiUsAYHsEZMkoftVID1t3ZxEY/UdbohmPJTopTy0TwtNHMj7qyeF8er2i655BJ++supU3ojBavMJpTINSoGK2xplDDO4Q7exlA+1iSNjK4cRUouHdtfTQf+zQNv9RRadBLG7t/AyGIH5oGlhJuioaj1Cq6ZjzY19Zh5IQHlEEH64Z7To48+ut7whjesGz9x43r22WfqefP98Ddv4W2dmBbC8kdxWps5hPElzsO+1+Q/dOKcuaRnAXoQg4Ec1WloUHOKEM2C4qfPnqf7bSyIA6exyXsgrATsnh/ZdJkl5ZKmUrv4TDtqOElIO0Y8EWPli4hiGEWMAmq8wsQc0cv2ym/M9rFEKcf4iCVklEIMELOpaQ+vYeBwy43PbsOXA+BNFFhDvvAgG4P3QRpaB6pTlHCSRnmxeCin5On8SCaM1olFuGrD1i7+20fX8zy58IV/KyU+ytPFfPlgrwWCcbTDt7VUneDCpebmaZEOXi8k1hUvOPrkJz+5Xvf61/H97/hbvTVwLdctAy5HUp6HpyoSRfpgR7NQS3YYlSyzJbgKM09H4cBZAHb+Zxw+j32DxjFcG/GuZh6tWfQjiuLQOjAunPqWXAmEs6PoZ6hpWkDmqJa5LbOx85wzGJBdSzktRYi6salXgnm9iSsu9uCpzs48xSGd15GxEb98gG/4YZ3YdNcRn/aCbybFlwLgaR39jRiBwxHxababHD2YT6opb/Rw24P7kGZMmryp5XgVZOHGb58Dz5PrxTDWQVMRBfpKq3RILffZHFKndAR2UVeucK5jdPJRAnhT9Bo7Gx38tc/f/e53+T79D33oQ5sr1808OF8P/5zl1smTM/osv6AHh2LKnNKJ5MidFTY6RQskhR782eiUvg0NUgX+w5d6ck1197mSf88z64z3POC8Hl33JAMBS6tbAZxiNkXMkIFGlbSbJRCWzgMTIBGDYdQ0tXSUXXWVejTCdRXW/nsOR2t105tn552NqlwUQreEeBQdHx+Mt0PiLiTF5EQ4Bw/AE52i2+BmwsLW9uignNIMiZpDa7xdTz0U3/o0h+0tOd6FphfDaJgZyODUi+7ipcQ61zAGN44eXhMIrzkPwutaHt7mpZrhlHzSQblxb+knP/7xwlNpuNuOFyABv96hZlxDq9Qu/p5X5Wz/vR0IszZ5AlNpoAujL9KfPbcG4ZJ5mvMQ3joiK/D0nmmMXPaMpS/tqzBx6Xq6nLrJ25uc1yTioqAuDGeSV+Yi2GJSnhKiCKAaf2Rn8brGsjjWjwcOgAkZj2KCRcQDPo2IT3AHb+y9PhrioRA+MomqJSxt/ogi3GXE8+J42gyvbsPl5N3oUAMRzETROSklnVpHXTQ5SYYLlI44Da1knraB3W2K/mqX6m/+JudbTfE8uQI4WBJ14FSN6TPzRhtpwER0FegCuuE4dQo38UQtc9rNQ+YCr4L7zne+Q/0/8YlP6P3m+IBM+yvem6DKh4PzJ7drCbv1xpo14LoKtx4CzBnnvDGHeCusNxj1pH8BodbB2HVkp7/nosoEq3sanZVjOw+1Zg7RRBR8S87GmGABIeZsUh8pqcSInwSBPahGw4yYUiQfpZSPS3rFm4LDreaEcJOgxoRLFNZY+KUGYnpwrFAlooVdnfiV0MmCOU303UW8u+wP/uAP+Bp13Ipj6MTduHdDokrhaT6BI7HEuyRm6wFedFyffEp++8yYqQGxDzxp+jnfkuN5crxBxe8nJ/7Bs3SwhtPeeoVEFa6NIKyaj8yD+pR+Sg9Gpm7NA/KKu2LcqzEP+Bqpz3zmM3xMBBseL+jhZ+gNnpXEQgJ38xjYo5WLZsZag4DpeHIKbudlPXNQHetPOs6hQPd7zARrH+XZOlqPIxx6XVqOy9WW4OdTaGmARA5Jki6B07gmXE03wbpMly2RTdMsUvzrSP09BMNnNgh5ptCMDcbAp4/8KncaU8KzmJTZ4VeNEY9H1F/A56jfvS644ML16U9/+ugbJpB//LfRsGozs00UadzKmTe5uOmbxg5dzIH1hk59WfHgTu1IVY+uP5xN7veTC4y02GqFUGmw4WJt6Vs6D2yIiQ6On3mFZygVjJNHzo2bMV47feb0wmfW4Rti8SIZfNQ07spPn9KhkajPlMO1nc83BzVT5Drww5vG47hIYrtY76mBczFveFXtHZZhLz67eZha1vngWWvIxVj0ZmxyAZEe2yKiGrLqyxhKpoPVjC0mc1gklWyfCUarqoH11BaeeZkI+GuDIeLoNpC/C0psPMqkBO6714kP58kRKv42EzyKjm8mvfzyy9f3vvc9vl98YjX6YisOqNE6vSSeOy0rHoRNymdCOvSKr0hEt4R5k+e169zkuruu1NuNSh2Y+8XmYeooZNTSg7fv5VanoY91Ys+pgT0HP+Y6e3b9+Pnn1wc/+EF+Ag/uUZ3GrXl0tr/yQCIy0WH4yH87D8Eq2ukbUuB88Aw+r8soLpUjPhsdBt8D9sSOYvbS5MQerlwFhrAkxvS9AJN7vQuNlxjkZjUziUi+IlwF4MPh44ooIT/XXMjnWON/Uxz2IfUUp5SuEwyjBkiSMPG4UZOsfSUK0Q2Mbrxxd7MJ2jzdYOQ8e5YvvvjWt761fud3foePqJ848ULpQcQDI/OBpTmCGZvmY+yKC9+jOpWdeYSNeeyavKpDtSMEQjf6U93cXR+bHK/Sg68CkkMFdGmcBweTmx+pdZ8YY10nBsrjOGmR+KFTQEYnzwqZGKNS68rqW/d9a+FTeL785a+sF37iflibyYehAlM9kVAUCZbir1paUQ5vSvZT55wpY+S5+YqjcqEn6pX4yV06TVvVIArbdzqpHpTdxQeDxwuoo09jER6k9CY3oQCEnYnd6AytMtFa9gBgoQYrYE2YGT0sHIgiR4jinGFyvaox6kcotiO/iCvacpEXtKz8oZaNoUaIp4unNxwIXMCr2/AhiPg7Ft+I8vTTz9Tz4oyhEuB8WCch8e/4DJ3Ib+isTqUX6hxzb3yap7i4HTUgiTcmU6wH3vAZb+PFMK2DHJNTR/dvUz8DpzrSYXA8Mg8aUnLtJsDLG0/TkDzku+l3dNARd8/x8la8TgEPgj722KN8oU/iqolyV294LtxdZ6sj10kDv9LPrZaKNe89Rs5zawgcpOvaiLVKxoQayliaS5WaJyYo7NJLaz6nhluMqKl/7t32eXJxU+VBkssNWPxjF3DJYhI0CYR6mqpeC2kuN1jKQ2ESi0RHBQ0BCiMHOAklD4rDGhsf4Vg3+XSh7awuT9aUHS+6uP/+b61XvOIVfGS9P/UlJeUcnlBA/xGOmyVf4QWl4BrrSiBqtku1+PZROjX+cKi+0dT+qrt9xVteDAP5qBMrB7tiWT+/qi+CKA6s2D0auJmWl5tjt4pJqY2ww8c9K22MhX2VPT44nj1zZn37gQf4ZQy4wsIzHbgSQ1RmYeqk5aGJPOmqvO6jBOFvd6rTbTCKO2IJsco6T/RKHYJpnoyTlPQghtG3wkSf9MNH90QxqJe8sUt9G4jPr3iLQ4ZHqMjLRAjM8dI+MZSW4gqcisY/RyvazY0QPsIu3ynUlgB9DhB/sdweGQ8T6jRGNdN8h9C4xcCnvuBv8bdc+haez48IlrhHdQqPEn/klD7iyboTh3UuLhy11oSxLhqd5jFNVd5ZQ02rW/LNo+vWN5pq5IY+mYfgsG7FCSdYiw7w4xIXxdcx9hNmxcgerPHz5czFhnN89Lc57mH95//8n/k++ZN+eTFzbmJUWHWlxdF5MD/EeWNKR9VTOpKUnSkdE8Lmp7jYKJT0qZhw2O0b1D2yBxSPBPxv2A/x3MQPDfx+8pGEeYGowZC7B4AFtUu4zGLSRvKYrLgLeLPMZpJT9Gm7RWZ5xAIDoVBcXJh5RUo+8pKdfoU3PFS7cjC3CiRPeGKD451m+CDBV73qVbwVx113PF0z64R7GmBBrMMOyyDDOHgZQ3HkHImwO+LGp+qOA9HA0/IYHbzJyRrgnJt8Prqe95Pb12B4YHzwIacBMucAy8oePOo6fAFKurT+uix+0SpYGW+TsLhu4YheiNAbhfDqQ7wN9dOf+fR6Hu9Qq01gQRwrbKzOYPlFtOSVZsKhtXBIvHDJT5okZ+dIjOwUhDpwneODmNZU61xJeh0JT+szZ7Dbgkwb3tKYy6wDO/8mZ9Y4W5iQqMqCBnReUnJd9rl9NLxprkEIqUANkqkD0EwsSQo4w8KIRwmrGhkYRit3fGDyuTtLe4siOyU34GDBhsa3obz73e9eV175dr7wQuIyoeqYT9ZzDAfWIaXWSRS3OYRR0JjjJelkfx1Ir/swhnf0sjZ5/U2eD41Qnwo3+gsMjG2taZ862Ud1lQP4G4dzDAzRSH4okTrBsF0zMVWqKxOF4YoY3x6LV8G99nWvXd/7/vd0lz1PqUEG126MnT+1i6fnZc4D6xcnxYYj442f+d23ybF8oydT9DzEt3jWzEoP2pM3XSGe6AX9SFNQnd+CFUW9n9wgBFwiVgEmVzNCOuBwxFr+O2j30EyfTbybl0zMx7UmIiyqtK0xxWi+Gx5AlwEx2tiln5EF57lz/DYUfMg/vrIH3+uNu4KqLl/EkzubkvMwtFb2qdrM31l4Rp/JYZsjsaplHu5qeQZDeEqGNJFygWdt8vq0Vm1yanAkR3PY28Og1B48qWtNgzs6OTpZsAfcYZ7y2usU7RGDP5/wkVYXvvbC9alPfYp9A0/msw4aURC0zjudUOV88+DAjmcfM62tk3o0ejn8FLy1YW3+x8vWsjgOj2lXrTkPIOvLB3jWh0aoQfTdDLQEazJMZwINUpAlVorJKgvi24c5QyjgYM+VBq+tlGcDHg1RIjfSPsRjgzwQJp/KNQ3iGfx2pj8+9QWfuopH06+88kp/Aqse1CE8D0VhdSPEzpzluOGTWjhGa+aIDtZULDJ4rWVhjI7RK/GF6zBPDD9eDIP3wePBKtxb4T9K2rjZG4JorSe3soeH65NXDaUiMqw5bn1c0/1nRPVKNmnsuQjPqqca+Hoq3Jq/+c1v5qfH6KlBVYJHcaw4aesWZRDoGkS64EvGpFTx0JE5nEhYvV46jBzuF/UDFv4nDpqHQ70WfvhODVOLa+eZB9XKU2hDDCa08HQqOJrNiDPBciacQ5oEVFuUd+ToRIwEHRInL8RLf6UNKsVTFLq0E8PUUsWGQyXysiClmtL7N+4C4pHar911Fz8O+LbbbuOHFuTrh8OGHFkrjSlLcSA9wjP2aqyQVo4+MdK2h6dKeZ0XLI9jo20Y0hO/hn1/S85N3o7E7aw+l/5RvmcBXsaiNrMO18wxavA4cbgel5Cl4o3VAbFXPOppMQNgBPrb/Dvf/g4/2fXWW2/lrbmwItr/GKteaQULUSu1waCY2W4/HgRWPKVBeRseV8eVycZODIDvmYmGOTK9amhJ0Z1j2oK5OUBLXiIW4RZKbnKdqriDCaRieIJiSaR8EW0knAQ8YIGh+EGQyQxcpVoA5EkbVMwNEIY0sfG0P8vql2LkxHzEEB7GyjKuj42AW3E8B3vdddfxlgG1DEY5dhyZ3hit5BGdmGBwEjyhqUkvnEZJaZoX/FAmusxhIcYxlsww+CE1N/l4MQw/yJFz4Z4o8S4/CqpHhtf26Mij+mLiljR50+PoWAy638YRnXjR+ZunVqWDNfKbh55/7vmFL2LAZ9/zVXC+y85+RMehhzOhQmFgXmuwtxcu5lAT4NrxOq8cFKs8LAu8W0/mxOUdT67LMdbCSC28Kh2UpTTKjKRZQpgXw6hJwiZwLO9iXLFYW3ARe1vMl0QuhIfY+xy5DFcObGKoCRc5bEftbQtehuYCZRUfNaRmVidlx0W9XxzvNHvLW96yvvKVLy+8ug3YWNeCHcWQVEMLgoiO0TY4gmHazSNb6IgOGsaDOs1aPhdGD5Q5zk2+f55ceYMveJsX7TDzn4ZVNZqDdEoOZ2wgiqTZPkc4wqV5xnXOQ9XkSXQ8y+fNv/nNb/IuO+594QE53Cvr8lPfYJw893ZjKQmn3XWNtTBtZkn+qgT/OiuOUrF1mj6TM9Li8mZt6CS7a1Qd4ecVAT8ZxgmUSKySMAT6iIrFnGwPxwnUNs7EB2DFNoFcDjhh7jh2zWISY8iq0EaM5KLf4KjODw7Oga/iefaZZ/i6aHzyyxNPPMFPZdXgtdDJG/GFNfYcpVPXnuvmywQH1sNl8ExNDsbQr3WSRrwsYEhcAwUOc5P3u9BU301ljGoFl3UiJqXc2sUztRqP4sS/c4laZmPb947drZtP6rLW0MBXOQtfxYzvo8NjDt///vf9WXDbXMJztL6k9kbMrHAuhL3spWk4dX7B7FmdeLc6ICbxQyfPoeI6T/Eds14+Q5vyG9pgDb5+4C1JORe+1ggQgUrAJLwHq0INXNcHUwjV2QKSf9aSA81T/oygMeo2oTZ0fOhFUq5fojWeJEQMziW+jidPnljf/va318UXX7Ju/eNblz67Ld/a0VokR+tgfFU7fFjCdRSfWNZlg5JXvsFDPxXY8mTMrlfWiXxQ2j7kOLQ6usn9BhXrpHKtCfN57oU7WNUXrQHLli84RN/E4cg+0TU1EtczcTTWAFjGOVyy+m2OeHUivh8er2n/4u1f1N/mvjVn/cFTdVJX2guj1mivG8MU3Prvc0h2+cYmHaSbdIqGfZQw4Ck9FCtMOG+7zmfu7nU0V/+rLlLyefIMu8pwmSavJ2mZxcbDF7As1y4U1DYXyrwYRmFX8xVvqswz+cEqP0TrH/NleMiqbfFo7BqsxMaOpPDBI+p4jfpHP/oRvx76sboVj09ydQ4i6E3oITIUs06PUv84nUqVzIJZJl5HYnGH4iCdjGXoVHb3i5t8fO56vlyBqjF88CmVkWUM2piJ5J929ShcpwfWxjw4jzzc+1kGPDqcZ4ofeux0wN3zJx5/nK9QxCf34HUOehlyV0EPCSS92tRoG7thX+GQNgFSswCf+iefsh2pMTSIFtCh4nESH55RhVGZvqHA0o6fOWQ3FucbnwyjJqgbLuKMEicggNANUyWDUSnALqKJF3zR2QyKhS2wTYmhKlT5nKDEmKxZ3b+Cl/CcI7zIwrhgwnDgkeb77ruPr277whe+wC8DVA6y2Q6G8Sffhu9oCzUA0uGvbNLJIirNIZ1EbhMP58mTXUo682zuMGhoYKpN7ufJ81nxLkPkBsOaW526p8KgGVD+rY1rpUP4e/UIT/Vfy8LL/OQZYjrSZ3DEZf1THHjjbae4NcdLXfH6hhdO4Hvig89tdA5xdQbjoqkEUVzwaHnMQ/rqHifffh6CkTjmPFgjd9S96pqsq9XiudcpPqxNgOGIkPDefcYbC1IzkyFrw7AQKSTQFjhgPIQRFoXSdJclCtgJEMdRY7/Oy7FX4zuWKCsXUo16nMMWTbmDgkYOADY4/ha/7trr1uvf8Hp+Giu+X1ypzD08qtbIa1t4MoIDADiNdW/n5WkvfvIkAOZxrehAmuYpkN6Uo1Zy0a582OT43PWrN5tc8rMXlCa8pKW4jPOBofGJp0pF/+aw10AW6bqxmSvtG/zNf+vvGsHEe2T6NN3r33X9uuyyt65nnsGn6erFMeRoveoccL0ZmAa/8kMM5l7LPQ/AUnjoZv0dD89Sg77RafBR9Z7b5EQk6xOgMg0b65aP8haP8ImdH+TIRZHxOpOGQBdDYeEhgRTlUdJIPJazo9UhYPlA58oNjQuMQnSx4xwlN7vTRygrHmvynUuzKSxmozAARz677bf/42+vz3/+874VDxY0ZIcxeF2/uah5rDh0YgKRZtKkC4eyV16zsE7MT3KVlJfkzk7oMunBp/HSh4z1wNt2k+s7v8Ovj9aMmKUDMBRP9zINiS3xPQMo3AN9kGdR8klxCIb0EqTik2NTFU/VwpX2N+/5Jl/TjkfcceuuR9qlFUtk5l2PVMkLuVs/oiCHo/Mg3uJY9ZnX+JxPOaxjOKigJKlyxmdb+Jq5L0bPCjqSA46kYG64oPeTe2CFQSDZNHNWeRQAWCch+YKgDCVIiFoEtkgAMxRMFtJq4cjRNeJ3CAMxGruQiB5qkKwAu7rpc0080Hx8jvrbr7pqXXbpZXxEHbd4jHesU21ySIOtThGXOHc6wQYewcgjL0cnH11FGg2tN/FqsHyckyC9HqTVH5bePrrO95PrgbfopBSlMlVVWWMX6OKgOGMsGmEoNYLRg0MZ/Otwr80zTKZOOE+eDUrWbh3wVCjumeEZEjzSjncSYuMzpppp/9TDumcXZYxeGuC37eUD9/mfL7c9OthrYAyHrQ7RUTjax3Xcy8wFYzk/I0t8KJPqO3o+Tz42MUnFxYI4iVYlOIu2FL4CELGKJhi2SPZcVtcqpnvoK4OMU+r6mMFhFTeNTTA59WObY4OFefS3+MlTp9Zdd93Fv8XxrSgYBnz9sP614JIjDRu5o1OwcTzUsNRkwzIotA+dw9F28MAVD37OnDnLL1HEFynWWmywj5/YGTfWE4sj/gb/4Q9/yOHH56OdOHGy8s74mWO/nsupnct1PCOs1SPoYo7Uo3QaGsRnzINhabN8AAAgAElEQVS0y54eeg+dtKFsc47MBD6u+e677+atOV73gJe+BhNypzda6w2Gyxs7LnkcaGO/jX1gYR7kPTgPwpiaPIZzkCDU/9XZ9MH54HgkB0u3z5w5xG3fT25SakyVkywsJA3E20lZXIEUgqeBHJ9hN9gCyrwSSILOWGOwuGxsyWG/EU87wXWOyYJCGS82ND6BFa9su+baa3ledoqua3TFexDY2GCKJZdRsweGPddKDRj1IV7l1kw0D7zhAh9OiEf68blyf7Gfw7FPP/30euDb3+azBzfddNP60Y+e2uU/HPfTYgD2Eyd1BUI9oclGN8yE94NPrNzxOqXnY5iThJrHzjp6tgQviMGt+RVXXOHXPOibboyGEZqXqq4150p3AVG9PDAPmT3WTUTPQM9Dchit43DpyMxyPo/uG0+J0I26R+KNhWis78tYyMR0LpBxIsk0ikOrBpVAFXSAJAGLIKyMcS2cl2w4LeItejKWZ/Ixh60eGF1SLM+x7u4EYvn4b3E8EnvxxRevr9/9db1GvXTQIBIjcZnztBMygXs4xVODXYiblwc0GhjduIZexHDrF25bn7358+uPbrnVP19Yf3QLfnI5x/Otx6ePyPmRP/z4evUFr11XvP0d6zN/dMuL5O/Yo7UP2z57863rU5+5ed199zf02Eb65J2STc8xih72qXnIuuehdCrtseLJYY91nk2gMdNjEPg8AHw239fu+hofe8E9Do8EMyi3542zxeJqu8e2JoqtHnaCUFWjYS+Z0zPD9eRlvsR7vhxoBH0l59oi6pjiX+xt9hVCtNbq4MlbcswhGdispBxGC639KB9Gw7NsAtylgbDXGEWiiux4urFmmh+y4r7LUSRh1T/GEUqqpyWwqwHillpaQ7Ofevqpde211653vetd6+mnnubdX9JyHHEKfIuPWkKsNkCYwS14iqNgwKVzELrwpgbtay18rviFb3jjuvq9/2Vd+8FPrOs+dBN/rv2gjvNy1nKMDUeszXitfWK98/0fX5dd87515R98hPbDsZ/YxO/zpA7Wpy2XL37bNesd77xm/fgnP/GoUjRpkJWaDwrsZqZH1mqjk3SPTorqTijBVmP4QE+8m/C6667lexJw741AgMO9TC4sZFZ4jqT2qX7SWX7qtaK3BIyrODoR58Z1ax6UOb9x3HAcsxWfzBgqd2bV1GXzqNjxFBqDUIHMEDTIGGBsEYQFGSH/lI0AOEaw9hh5Q7a2ToumUJFWvaKpinQduYTcEFzX+RFZWM+d4y0mruXf9KY3rdtvu51fuYONXxiNW9i3sfDBerRgTPFMBtkFcY8Rq/hnn2hw7tx69rnn1qsvfMO6+Wt/tm675+F1273z55F1+72PrNv+oj/3PLy+wJ+H1hfuecj5z5PvHtty3NfFetkeXl+4F/kfWu/++M3rLZddzg9bPMRxOw97DSCtNIySypHNsdfysI7pNR5zwfPlF154Ib/1Rn+bn/X8oIL/7fqNmo0D7u55sG2OtnsuiBv2+LCEedI1Nlbx5IsHYxirnIkSzsE9c80apZAqxRY8fHQ9gHy0TQM/hlfrs5DOt01zk8bgHrJzLbl5FNAIJHuISuA0DjZ6Y5naxJ7lYFRv6D9i8Og5XpeOdy298+qr10M//CEbwpolDHKYCxu+b0LXAAqOCwXXuZpFzdXsaGzf4K4atmOTv+Z1F63b73l43fndZ/lz1/f6iPNcjh3HrOc4bS92npgcX6r/9EPsnd99Zn31wafX+z91+7rksrce/Tgm6yOdrZp5Z7ZooyilqpvYvewZGf13j6C7G8fZwAc+4l2F+Cw4/H2Od6hhDY/AM5oz1L3UZM0cse3nwZ7pazBv8nkWOMaOJ07l3OjgOa55yBwSJafr4IxKr1BmcdIneWsBTTZfXRyxAy+i8VgA9w2aQvg8IFEo5zpTfQ971SuxGjCpZTDoqKZOIeSTEmoOK/LULLDgIcAj5ydOnlhf//rX+QAUXt2Ga3eJJf+9cODeOiBVc3QF2aNPjqPhVH6IvuGQfLwlf56bHLfi2ETZeHd977k1f+787nMLP1qDX877KHts+2P7bXOk5qH8bUu9iQF4v/rgM9zkb7708u0mzwycbx4oCuSd83TMPMSX7Rj98LhVj/zOwjvuuIOPveAxGPSb99q0JzSJY17SK+LI3NG+x4a6Y02Z+HufQ5y0b2LDsbk6z9BJs83fWJWva8gt8Qf2RXQwfj7whmJyFZCAYnYkBqD9fwTZJAk6PmJPPsxoQs5e5LZEhaHq4CJrD0wjf2Ecay7YeN0EXVGeW6fPnFn4ZtIbbriBj7o+/PDD/DaUiVGyjpqzkdapMabRwbrTKrx9pM7M0U2bGuSWHHfTj9vg2WDbzbnftLmMW9icHzpm8+9tc32ewy+bfbvem/yL65LLvMlnb9zLaE3ewx5t1FfpmL5R7wPz4C55nqCp+8Ba2pnIh1twfF7fBz7wAd6y57UQrIkQ+7u94zITxmPUcZ+PmYdj9w38/ROeBr3bE3P+gMEThzki3MyZ5sgM5FUz3zH1DSo7OkxmtwZQqwGRo4orRwsgQPIRNqy0XefOQYgwt0/F1FpyKQcu9U+FIsyE2w5R8U6le++9d11wwQX8Unu82k2N7pospWj/di5csshhq6MQAHcaFzvX1BbHwoIuFMJe99/kuLvem3y/+Z5bd5130x7wP3IrPzfnPFfs+a8UssmP1nlJm1y0S4PoFF2pNDXe6pT1eZTe1tHaU1jPCi1u/8kTJ/i3OT4nAM+f4x2GdWs+ezHmiQjcb9atafCl9Nuz1j7exzUvBjEuA6LmQArUPFROXRnYyhlhBPEo32ZOuZR1HMmeQJBjt8mVNskbuAYz60qToc+lpIaXCk5gVbqI2H8C5x5PdCKAVaSRltlp6jq0y6hNL7jGoXg09fnnnlvvec971mWXXsr3HPNz1CdWa6Mq/VvL2cTGUHG2moeYC3uYMGLYGcHLVZAcn33u+fWa175x3V635PvNNDflPN/6be+qb219T+DZl3CFkRo5Hsj1/7H3HkCbXVe1oMkGCigoeMYz4DIP3jwKCsYPvymK54JhwK/GpMJvah4YcA4yzkaWbTlItixLDrKSlVrRytmSlVrBkhVbUktqOchW6lZwULCyWqHV6nCm1lp77bPP/e7/d4sxwzA1an3/vfecfXZYe+2bQ6x0xmPyyZacWC2BU+Yf/cqVMhsYBk7CsnKhYzwSXhkA5jKLjzFsaQ88+CD33vB9+SfWr294f4A2KD2fNV/KGR0ip2wtlAYPPSK96zGUuHqvfNNKrWuscaf+GJ9jsVx1MuiINfsUC50ILBHj82xAHTasqQyGmSgwylPYRuvIOkIOKAF23UnUGOpyLrxqYCBd3jJMiIO0e1bjgNkuhbIuAYCDpOJztzvvvHO7Yc0NDWdec+VAsR4nrMtE1+JlmJq2Ur6019GWHsdVHELz1ta2XeQzRbawpbbMMoXJMT/IItfJQR+T9911Re+/xok5delk/p0rSvUMTPhAHPWnZ00QhoKu3UUOcVw+u+KKK9pnP/tZfhlV7wvwQGSsz1sRWzCYvvqvl8X/aSuXWXRD1GhOTqlY2dStmtuWCnfsF8fIIenKeQDYazGGdZl+4k1BVoVKSAymHsnQ2QC5G9ZK0RKpLYKF39Rd9HCZaxuNHexVQEJGRW49Hi1BF6vAc9CQ1X84FsedWMcecwy34rj7S7trIUs10mkdzK3jLD5kP9tgoWLk4pXl/Js4QFYxSE/MU0cv8r67vq1CrSfIXNyeYuxSx+Tq67v+c3ZCxiuE70xtaYz3GpbeXVeMFSfyIbhAgoqS+hvtiTPJj9GBVeC3LB8szbHKD/KNZ8zxVle83RV38pkDyDzs2YHBVrRrQueknTnlyLCm3Nc4mevwAbrJMI/r5tie8UqK4UGxxgSvqi73QcI6aUNh0B4DiTfDpDJ5wqrzwASTTkX4VhpTRukgMhndeLhq9zklqHTUvZ7GOOihfrTLe05zXoMJpLrtKiQiBunAsTi+TLrzBz/Yrr/uOt6NJWHo0I+RxSItRjv6ZX9qL8YVLChrZ+lTx0BaFEFoTBwc5+KWfK74psXmoi7TbRy3b+u4e/n+Wty2Wbfk8yfezCfmncQs+eYysFKuKz5KZaD3z+UDU6VzMpdccjHPyYAP2LrzclpNvvmg9Aa1vaApvQlnB18LFyQT3E0thQ8ONnjCOCc4VITELY2HOrpMoovCFSd3mor50gjHKaTHYExCG7IM252woRj6+C6DsNU+jDcwrMvoV8Qq8iHwOt6FHMARrIAqE4W+LVxr4+zq/vvtz7PruFZqHwyXYoyUxXjHK8+doAC1yjCy3q8wCTGFE4PAijbr+MBg6SL3VnW+6Jc/0+4x1uHC9NT9WK7ztd9jPXWfpypyHJefemEp8mmMzmVMMwdBvpoDDE2ccjYyQbzQW/gAGesPLg464uGfe++9hy+VOP7448mLvAsufBUDei7lRreTuRx4Ky46noEvdEv6NBu66SvoweA7H+l7lZE26TYkoS/inMOpY4FHTe1sTHOZECq4BH8im4AwxnCs6gkdCqM6W5xMcCPgYoO+1MRRUfiklCY46gp4qTOeNIsz6p/85B78vjheCYTdtBon5nM57csfaoxEzOKQMXY0Uq76nnLSu2gPd7zpOnk/8eaiqlMX1nQKmeXarGMqU5fndLjf47tM3+IvsSVPLJ2zyE/kjgSfynCZtFUBzPZDn2Qyd1HkdZl5iBx4xYsrKhdccEH76Ec/2m666Sbe0z7kq6w4sj34NOob+Z6ymefl+cAiLHVjPnBq3hin6lPMw55k5/hExbEnHLvr4nAM4kTJSMBQQVZuwwDfbZGY6qDHehxFaVvj5KT0JkC2HUXlsRlQ+CHMbT+KMYIOT2l+02Z80+zBdsLxJ/CZcTw7PrVFwQIqYxAUIVtiH1YykeTAgEkLTGgjcJri4NDovX0OIi9f5C42TXuBje0u9Pn+XqCWG6cu5LlDgt7nMd3GWOTDzTCBbcVBOeh5M4/EERcPOUyOMf8D15Ag/i+UOe8NRyc9c0nOha14ay2OzfF0Gu6Ew/kZfjwj+Vw4yVnolS/UlxxUuzudzx5LjLPfUz5EzpfkQ4xznMlbN5iz1EP2aaVIxBQ0casn3uisIGVEBlaCUhKqYCaLhVB3FBRKBMC+4izHu6+MGYHhktyJsQlgIMKAFUf31XpL8Fhr424nXBfHFMv2iTrog5OqLummxdAdRU69iptx2LfwiXonMYkPRMvKqTNxCF9Fnq1t/XpdQsP96f2mExfxtEAXi87Fp6n6eyFaD6bbGmsZTaVjOmZcrifeXOTGiRwSawoOxl35drEYGy8PuS65rTq7jKpRKYmizzHKHQr62Wef5ZdqsTXHMwzeu8tUZq5jDJZLwdtH+hCDKFE4KP8Ld4oOjOev8iXGWqf1heGsN/fTh/RJsVIrIeBajxYh358nlzYalyKpsbEIU/0JQrTCwfgnu8VotodEBiMA+rjSDyvhMcFN7bFEHSGT+g2oEoNdcryL+6ijjuItrLjriXc6RZyIkXH2iKgQXmTkmk0LHFN86TjFiKKTLd4C1DHVPtojKbDb73hDkdei/JeaR6GG7mVP1hU5yw/H7+MxuYvcua257G0xN5NLyySXBj6o1zlKGZM7szXyIfNNe3oj0EEHHcR3tePKCy6x0s+e/W3wwRwvDGUy7ZmSD2/135hrtsKXyofgT9HYvXGfBiaj0hp1RU0I8BzLIo+Koi/QQcPwsfyTL908xvif4Ox9Gu9eTUNrGjailrI1T6UDSzGSQXZLfVz0Q1Iu8JgbW23c3bTffvvx3W18Aine+mKdtBFR2JJ1yL4lq43exjETnKwzPQ3A7a/6s1dEIh/imPxTn+OTZsNJsGULcHEFMG695wp0cUwWexZxldm2jrkt+RDzDE7GitPIXR2jpi6lFEtC/Os41nFJhNCp7MW44BP4ga+t7L3PPnxTL75c2y0px85vWslcSmOvG420fPXFMVQd7s+2rAoSgRTsMtLt5bphoj2MpZGUgFr+x5HeklfwumjM5RpCyxjNwfjLwoswMokw2tdymtcYOEMtwzjJsocxdr2EOtoYCX0Z++07xivxuvHlwYce5NdQ8OaXe++7Ny6VREzyoseRy+F7LFOnpZxg+1ASk/Haf6ZJutIvYwIZJiZ8oT7JTs+uo3BcfH2X2cWHPmxBvVyn6rsxnmRzAeIpMf0eL0+5YVy3Y3vjLr36Rx/qGB+T4ym0cna9YJfIEwemKmqk51MpDD4UXJIzQWgsiw/AsowvuLKHOoIXoc/8xV7d/fffzz093AWHd8EN182L7x4Tmcv80Q3LzfFh8KfzwXyhXvKhx8A+j8s+jVWf640sklWG2HVAr7EETvnp4gqWldmZSsoELwDsTrEnjHaD0qG+YY2D8Qwi86WVg5M2BBoyDCYCFtQKhlF1IHA3E540wyUzHItzK2591k/7UugYBLrAQ5scJDLhm2xENKO/QSLpCh1pq/ummOf6680w3l2PYp3duo7FWVcIvVCf4JNheI78ouvXtguuu61deP3t7Stfvbtds/ZB9s0XeF1hzM+PKxcX+eQSGgtgyoXIO+GdwUH8DG70XHDOKWEuMz2Zh0IJajH3mK/IDxSrfWvb+MxG3gV3wAEHtNtuu1VvB+JXV7gaUa2QtBqzwAf4E0azfjLn0UO7M3EmX4qO9A1tER/1Ff542TilXMhwWUBZRylyj+ogpOMBri1ne4Zoh2TR4FLOMtRh47bhYAogDtTOx7gsjvCcIygrkNSs1/7gGAtr54MPPph3Oempo7CFIEoBM+kEDj5Jxv2Io/f3YVQRehirYwyfO04YE7F2eCWN9mrXj5rm7vp8cdUCHufrlrWPvf7OR9oJ513RPrTnvu3Dn9q/7fqZA9qnDvwC266+9fuTrficjrqimeuHrSWK3LFP85S5rfh2/Ct/hL950nNQ+ZA5qPYS78h3Yl24t3Vru/vuu8kT3AX32KOPxvPmRUZrfvFgjg/sFwfpq/OaMaYjY757M9tzbLirmBxv4ETd0Ub9UTeez377L0zzW2gukl4DhYQOxA5UwOSi1no0Biek3C5AN/6zDff3ArKkx8Yy7A220oDraCwiPGn27EYmDm99ufTSS7V2DuAZWwDiOGmB/sqm2mkY7hFR+NvlAmTHaB8DhxjCsfI9Yqr9BMOJ6DFPd9f7LrOLa7p77nYVGop+uoW9du2Dbbd9VrT/7RV/2d76Tx9u73j/ru0Nb9+x/eOOH2nnXPmN8tx61zGuPPoKQ+3VZu/zIcGwu06+lDgBbsXB+DLHgTXnI/8VJ3X3fCtFToY0O4/MN03RmvmmGg1/mGi9IgoFjq352rVr+VZbyQeHQyfF7S/1R//gV8118Cn7p1wu/TVO88kxKIwet2UrTuEj/WZ/5xTanhcrJ4LkQMhpK6nGmLSJszQAzWjXnw4qW+ig+zvQIRt2aBtNSYyuy8q7fgkSJgKvoHBMha34Oeecy1c7PfgAvmnWP1poH3qcSjgdN2nSh+pLECNk6CP9lkbEy7nASjGEjxlP2FJYBAv+93iXuxmmF5MLEMXcC3qx8Nx39e0PcCv+56/823bC+Ve1My5b0/Y69Pj21//91e2oMy4uRT7q8Phub+xHe5fxllxvhsmz6xm7gp7FScDFCrVzy3xQroST55mviiM5EPgGH+ZkaF+pkr3WGu6lwINLOEG7cuVKfvZ43PMzDzyVneS4KIBMhs7ST1Z4nPlQ+u2LdUQtVZyiq/PEsiXACD9WBLLjbkz7m2HYSlcljOVgKwOiwyyrCEjOQqaDJ4QFQIxPPfIuLITuaHNVsEjsg6MJm9EXNOighhkU86ZNm/m8+K67fozHWrgeKt/ho0xqVdSBZtiRoCpDLwJ0VaR1RIwcI1+p3MtMXPicsXcs054iCOzkz/r1T/BR0/kHVKZFhuVp23RlsL6xyPfYp738L/5b+/yxZ7QVJ5/bPviJz7X/89VvbietvGpyAm46HsuyoWP+pe31LfnVzUWeuQKwxiKm5IwxcJ+xy0QIX+WicyX5RTBDJnMVec7lST9SwVyZ3lv4GmxszfGE2ne+8+34om3Pd2jgAIbC8dE/9SFjUU7htSzGX8dG/+hM9EueuKAv9Xj8XJsKOjnuuDREnvnsuoWYiBBk8UYwnu/93aF0hm4xSyosO2odUzAi8XLdFVj0OuEeN9FnrOwT7kHGGVLck4ybX/R9cd2+SnhjPP0Nn5SwADEUZr/9Nik8BlOnhTOOoPhuCYaV0iro7LM8uKP5fp187s0w0wLD8rRtWqS9yP+Xl/2v7S3v/mB7644fbv/t717XXvmq17YTz7uCJ99uuGs5PUscInx3HIMi173rvcgTmYKTczFdMZLcxFajnFdzU7kKjUvkMnVEYiFte8Z4Ua/e037XXXexyM877zy+hLKeaaeOKR8iZ7IREiVO+hJ+dpuR64jTGHC09ZUxjqfad1sgoRVP+KYYVfjd5vRmmDCQDpZlKmA9iJDpGIC0XOi3MdWN3SlTyDsRMTYDKQ6HapdUQOPikD774evin/jEJ9qXv/zlPBa3XvpoW2FfPox6uDTtr+PoXy/MqrdHKCCEQyFajyALWxhJ3/JF3reqi8fGLrjp9AluyXfeY5/2R//1L9qeBxzV9jn8pLbrXgexyLF8/Z2PxS77dAVRl623ttX5pXbXkSvFplxG7goOzt+UDx1L55s0yBXlYr9aoM8/5zdzRM6FXOSUS1u3srBXrjy/7b77J9p999+fH0pE/8J4j83pEnxw/zbrxjEar9BXcLKfUTaJQ/KbvJQex+++cuKtFGtnnsxEohSwk9aDJw4uRcsOOmSWRhF49GlC9z26kN9yEwBLMFpx6tNCDz/yML99ddBBB5Yz6pDo47Powgf7wSRS7xhbMJTOe2yfUjEG8Mf2HkWOWSDI4M/om0+8eXddu8hjMfkYuW/FUYDTIoy2u7Ul33mPfduf/x+vaidecFU7+8pvtOPPuaz97Wt3aB/Y7bPt+jsfjUtptmNd9aUSboNMne9jtLvut7XWFzn2GBMLQ1cKSH0hK9YtcEHYT/Qt8IEsUyYqB5N3fXzPpa7KfO9732sf//jHGj4jhcuuOjZHfu2wci23xU8VH3SOMulrxOIxiQF9s+rQNfVRUWQs3d+OUxBtxIrGepwscrWZrL0TSuk9J4xiwaD7raOvcVykKrRYmYXb7osgWYrdcQYDSQYtFwRSuAN/+E9Pmvle5N12243XxbHM3a0wanDs4wh0jVs23a/YwpKTAp9s3fPGyT7DkKUicQOW7Hd8TnC9Tl5312eKKm+AQZ/7Pa0nxJ7g9fDd9jmkveKv/4Zn2T9z8LG8jPZ3b3xb2+/IU9t13JI/HjfdhI7U7yL2tNgbZLwl13VyH5MbJ+OfGBCnwLrgpPyIE5wHrugvGCbUQU3L0RbFg1vORQygjsIHpmDQiy/cbmgXXnhB23333RsKfuPGeHtQyM3ywf7LkfSVsuGDIhrjkC6G1zWkP+J5lEWYjfG0ExpdWoFFj5GG5QJPvFnAToZJgpsAaymB0UyRlFMAGpoFuJ3qDjnJlKPu6FOsBEjjy5jsC1I4uWzfypNt+BrKscce277wBXzT7KHyVFGMGWwVHyMORjfFIQjGPkYUMToRdeykn13RJt2OWDoYHezhH/WxJV//pAdUXFjbO+1F3rf2T7TVdzzSjj7zK22nXT/ddt597/ahPfdrH/n059veh57YLrphHY+j+x7DnI5S2LlCmfq0RJEXrFhrxkkcHPItnIRD1KoyT5yi3fPOlZSqCKhzxJOou8gDa2mKXAaHVBy6UxLncnbb7eMNx+b4ntqUs/STuqxDzpQMM0rHoPFcu4gxiUmPiXOMbep/5Zzt9SkUyo5mOB84yE/JlpthYgRHwpjEKgnVGH3hbFdGytKqxsik/1ofi9iBYurkeMo+rcMIULaHJQ2I4sB71DfyHvXPfe5z/EIp3gJDP3OcgKMhtDE+doac/J6PEyBEXDHOsdG39LXEEaRSnBgeiYvUc5m67Ff0x80wu/FFjr7jbVpM41a6FrPn+2UtjcV711bd8v126Te+0y756l3tK1+7u11203d4fzx21T3O0+n43t6LfU5Gu+uTO94iduc8ucIiqfFXnOp84I+cT/M5yWXinHiTipFvKTD2mI58kB3s/WEv8MILL+TJW2zN+eAKLsOG/eRD5N58kk7EpCjJmphXY/QZE3kmfhQ+UI9jJU6BWo0L8ykT9sIf+yn7slmukytwczRdnQwO7ekclQmCBJRg0pEANxC1YSedcgxEWtyv8SXZci30o119SAqeBz7llFP4XTN8LQOf1Q3MssBkj07KE47v+qWQwxRJxJwJi1i0THTpBJaNk6eOoeMUdug9U5NxDDj4jjd8QYWPmqJI57astfCX6S+70yhKFKF/29a7uDKZL2z7Urfk5ey6EpV5ADYDYuZW4h08MN5MpPPkqbUIcYoQ1r7SiGFhi6lKzmSu5Qo9CjfDzy3te9/7bttjj0+2Sy75SnvyqSf5GemUMV/ts42V5YiCuuklB4s3yXmxoPOH4xUDZKS24JX9nU+Wob2oCfkpgtvnfp2cQFE3UbEzImJtjzTBaP1XgJaTWoswSAJTxtk6Y5CWtFOCIUphx8mRHE626WsoeI863qeNr6FgK06/s4gjwbYvzKSq2ol+uEXgYjxt0YmIYtpuHXI0bdvHMJQaqCVt9Lgt30+83b/tM96liL21Habu95T3vy+zUpisUFjUC2Mn49EfMtqST2+GqaRFvJUDhfRTPsSyJsbJuSnLVCeeWVZYSjcMpmrO40/PZTgUMt1XFPZZX/pSO/DAA9vtt9+evKJuDrKs9Gf7Ah9oLurJPokAisK+W58dDh/NW04lI2cDx4hfcVqHxjpOyOejpioOC5apNCi0KDg6GKBhnjNisq8AACAASURBVEE6wDJ18Fn0djamGuqkFZvU0UlAqGgbpiSHN7A+/Mgj7exzzuaXK7Fr5T7CaB3khn0M8EKH/OptiqPboD66MeOjY7GuxCHGs1/zykVWd/FzjHnhElp5Cm17tr5DkedDLZPCzPbt2VPYXhntKfiVzHnizdhk0S6FY+C0LKdGPlDlkAPoCPKnPecipk5BzdVEB7qe3fQsb3HdZ5+9+c28x9fXJ9TsqzkVORz0lDgLf+ifyAlpOpycnWIV+moNKSyMc1zW4fjgC7upOwRrkavdRkX4cJYGPU5BDYbochiwA55GX5QShvUtnufVKkmPC281YfZK/xauXfGOrgMPOoj3qD/99NMKMMeFn9U+AbCfJbawr5grDp00Y1K6TMVJGimZiaBq+IAk1n8lTro8+wWV5QrUu8q1EKfyWJ621XE/uPm6Jc/3rjNG5Rs4LGAAeM0BpXhRxuNKXskltBPX0Et8qQ0aQy+VZy5gP0ZFWyy5wIIHOAzE7dFnnXVW+/wBn2933nmnvrfO9xH0XI58sa3STw9pioShfccTthRD4ST77WX31xxhCDSlPuFH9VFXbhfb0D9/nVwZkWMEUpYxXF2xHOCwTbBmoTGhCZ4CjTzRmQ6QncG0JIxjJ86HPtzdhvdmn3TySXyP9j333MNrmmFcftu2lKZNy8iqEY2lkJVv0Uev5v0SGAJFBHZyJjgFho7UGNbEYTx213HiDdfJ+/GzClHHxNOCnS67aHGNO34LRe7C39Z1cI+HzmrH8zHl7jqOyetXTeeuk09wArxsUlFM+UCsmIIomuSDcyUFknNhRZ7EJJNn4IO6uk3nOrSmLK6R3377bXxwBQ864Uw73/LrwjW/mFuZEh/sC6YRsybJQdcGeVD63J68II2kp8fpsOTxYDN96vyDznxbK+lJkrPS6GA1Ko8D2FTGLES27C2c6IFKEfo6ENkvdTm+twfkRX3tw7E3HirApY5zzz0337gJWwQ2ilXA9HjcLxn5KP8gKWAkY8MCpMtHEBFf6mO2IhgrooqOA/ynLaqgUMcpuvox+Tauk+cutwvWxV1XCG5zUXp5mamPwT1NOzNjBhmf1MPZdXy6WEVuLJU7MiwYGhMCi/nAKSBUMtQu3izyoWOvvC3oCMIpd2HDVZU8EV8yv5lH+YMNCT9xfdRR7R6cad+0icaUSsmQvJHr9EkCyesqQz/TDpycxGnf2OF+Ci3gJBYZvx5joSDHsMhFPjEtwbLxdBhD9VPxRJBwyuC5PxyFLgYuX2WG0gLXsUIvNYcu+cChHNOXdXcbdqVwRn2ffffhTQvYvQrBbsNgVf9JojFOj9NA9WFevgtpx5GyEQPlCk7CYYpTSVAkTtEq6u5ef/1TP7s+U1xLFt72FHPd+s7p3s5++DAU+fwxeUQY5BQJK2bEdYYPwIe4kBUaV3FybtBmDnlMz5Fx7zmUfM8xx9KW8j3txx4jHj/FY8tXX311e2bDM3m7a7fTa2IuNsqJ3Yo0uUWP5f9MnMJOhaPYq4+ie7dn+gs3mXOcw+66ADNqo+KgpSox4pPRgFBtJnEEgmQk5WETS6WP4mwKudJH+8xTDw4fStBu1Nr2kQ9/uK1evTq34mknbAy6Q6997SC4xTYcJ52NQi9xUk8HVLEEmQgfxmss+6b+S3QBB+LkS2jbuE4+f3JtrmCfa9tSK4ml2kf9Sx+TG9uKEzAMXDHFP1ZYb1f+gy/GzVyxbMU6CGBdUz5QXx0/o4O8kDfpH8714COZhx9+eHv44YfjqyvSLh/hXOV2xECfyQb2V95nrIy7ju1YER/HTQO9b+A2zbsP0/An8MWyjslDkEEWIJwIjJNiKentkSAbUrQJkEKcyKTxcCwSHLD1sRM/YB9n1HFshK+h4PlfftNs8xaNkYsMwcWXftKmBBgLdVdC2ZeQyf4iw+Rnvoqfii9SJYqEvcG+evLvNOmQ5e56XCfvx+DbV2QLxV+2tHPXuBfkl9xDGIu5jut6vbs+d+96YAtMgmA5N+VCyBC35KTHj7lApqhvwpPEfFt8GPqhu+i3X63xvotvfetb7dOf/jRvtkLRY88xY5hy3jFEtPSS+ib6p2jYZp1WmWwPPehDG3Gouuu8Kjc+XWzADKimEXlXRkMBLw0oVK3RJvNCTamYygagxCf75EMHG0PDDwbUeEYdu094Xzbe3fbss/H5WQxysAPoVBE+QP9ycQY4MtuTnmDCl+Ij5Tpe7GEsBtnTkGHCAqOIh0uBUy3yVTfjOvm0uCbFvtA/lY9dasp5rKczskORS270AW1Lj9eWfHLvOvM3Yt5xMnYdp84HSGnclA9MArF0f9Xj5Hm8ZKQXdqhUmpnLYE3wzCuISLR82Lq1Pb5+fcMLQbE1x8sf/eDKyAf7YSNapgXjUO1UDtT54AM9h7z/lZWQceqcV2zyX3jSeQriM0k2EA4YiRrwMFijA6hIRQCWcukYPaMHJjRl4B31GAhMlRD0YwGTDBTLW/DxgfXt1FNP5c0v+BoKj8UZCIWlQwOLDuthU26Bw2D6YZsy3/3maOoMHwMnxKP/Iga3c6jawqsQi7hgMeLrCZS8t+Q+u84z5Fl80wKbLs8V7lSmLtf5ubFuw1Ya85BfeszSRa4onctIkhhizIgQ0KpYdpycG007P4Rjx1WU0jJU9lwWXcm72i/bSqnn4YvG4dgcr/fGZ68vu+yytnGjj83n9NYYxBJx3oyJfhjT/7N8COMjTnKo40S87IPiJlWNZ/As7nizY4TG0cuOVOY8HQtj1Xmn0v1J5LQqG4SQ42ULcoyWSQmZSL51oZhxT/Gtt97Kj9XdcMMNum65FfcUKzgnNR21DsEEqcAt5If+8CVBS2Hqt7ucBnByuwM7YmG30A/dSkRa4eDuj7Dqu+t+1DR3jbe51XbxeeoCdXHW5X+Jee+uT7fkPUanSfkWHnVeOPUCIJ8SJ/OzTjumANn4R5IDc+ex2hNTZ/kglkTKQudWPOm4ldfNDzvssPapT3263XfffcE/+6M4bdv5dE2QAqSK+JC+il303RzxWOpSFBmb+oJFImDQ3zwMfyIO6IDY8xSsnZWwDIRDLBKDJPI6IVSSTdIBpd1RgWxAZbQ7AjnpiKkLL6aKYysvXeCkB06A4IV73op3O308fbde63OhR3uVySoc4pQ+9WHec47RDYwsOpFSxy5QGB8J2NtNXsXudtnzJTR+8DDuNc9C5xbdRYyp5xfvM8+t7nDHnIvb4zytK4LaZvnp1DKeanzdkvsSmvLjGE2UipPi7jj1ZY3tvLQu545jkF8mp+fFusirkm/rK5lUcRUZ97G2JnzAgyrr1q1rH/nIR9pFF13Unt6Am69st8dGHW5X5dJluWn5wIDDSpv5av6i3/PuK22DrQW5juXkOrlJCwFqi0Binp52wwY8miEUTeG4IpMvWgElMEoCh8gWx04DbtxNx1tfsPXGyY/LL7+cz/0S4GJPRjTeqCoJPQ77W4HLttAlvwSQ9YxY2EfpZV/ECZw5nsuc1XIkQH3dHzVDH9r68+T9EhoKaSymseh7gU6Pn1F0Wey5y9/lqSdfBrl9NmS7ynoFoy25bmstH1cgMcUXxhg45SRw6fkQDoKvk1R57DhZfk4u28KIZalDnUNOrLvnLexWbsVnj5966ileN8cTj/3YHCd+e65hwg2OWSsiNxeOYlyuCDqvOC440ce6v+AgY1lTjkU6hSXahuvkEoIzsaZJ78PxQWl3kGu+ornrccCUEJkBHgFUhDmMoopM9hXUls1b+L42PC+Ob1fdc8/3eJa96gjFRDGBZQyBvuOINvnXQVNSci2UoFkv5CUT04gBbfQ4+yc4MU4PZaRaFym1gUPv9zH51TfP3QzTi6sXtAvZxSuZ3o/2+gsdWdzTvsXxo64YD515CIE2F/n4gAqCVZ4ixiA0wmee9Cdlejtw1GgNca48Tjgn7CE75Cls0QQsRK56HkOH+9BPhZFDE9M+otA3b+brvvfcc8921apVvHy7ZctmOksmTPngeJnvEQsBwKGMn9HShxojFBg7x8BgqVF/UiBiVL/ilP64hKbiQgfBgBwdVjsDCEe7MwGKUiSAIJM6DFoEF30L48OOLSm1GKu3vmArjnvU99tvf5702LAhLmHQTvhJHYSD42SjgBOJDInwcbF/iHMah8kQOFDWOJEcJc4lcQh/raPEAMfxgApua73q5nvjc0b+rFGd4vbR+kOfbin1J5Dcf/1djzf8xv5RfrHf8kuN9fixH8+mX3fnI+2UC1a1/Q84qD351FOBs3IpXgU/gjPI09J8EJ69X9iZXyJ/5Vvk03mDAPMQWZeoLIcMRTJXMT58q/xPH+Ke9tNPP70dfsQR7f777uN1c/dLlXif42MlYb8Thxk72ZcxBAZlRbMoozDpA3Sak5wHvuU6OXtDiA7ZiZgKsMWklFQY5VhR1B7N468BmXO29sMHXKrAu9vwNZQvfOEL7d579U0zjx2mDEcaZEOk6DJKKePArFzJlRnl3MhslfHGgpj1GIgTEuK4jBWRLuOdpNSzqAO6WOR7fradd9VN7cs3rG1fXjP5zbUVmYtuWNsuuu72duF1t7Xzr72lnXf1t9q5q77ZzrnqpnbOlTdximW2YZlt36Tc+atv0WeUrru9Qc+C7WJntg+2b7i9HXXayvb5gw/hixGNj6fEKfASah0H56nKos18cXtO1ZP9Hp/T4IOzzpS6eDh1D6pCfOhjo1DdgbxF8eAEMD53fOCBB7SrV61qG/hglOTpm3Ncpho88qGyhv200fVMdXHZ2MmZ4C4RUrS13bGiyD2YkTJeRtMLNRRDS+jgzABIAm4Z6+CoUgJjvzpcInLWYPo70rfcfEvbf7/92jXXXBN3t0EHHSWMdgp5yv9oPhKVgSuXlBn60VL0edHjSp/M9oQbO/pTkhpDHWzHMmRoInyQ/wL3ySefagcctKIdeszJ7fDjT3vOvwOPPLF9ar8V7aN77N122uWT7Z3v36W95d0faK9723vba9/6nvamd75P7R/Ypb3uH9/D35vftVN7x/s/2t63y+7to3t8ru257yHtgCOOb4ced2rYP327/Tjs+NPafocc0U459XS+CJHQGYwsLJe3cSzEYrGZDy5w8UJcCVllXqkccskF4r4UH4g3xivlo45on/JBIUj35i2b2/rHH2+nn34aP5aYn8TGlR4XVtRMFnK4tdgfsSUE9l8kDAQUeuhOx+EUxvGvqaagiGDgjklcJx8LQqZtUFMapGIr1xgDwjGRSKeRDinTQe+wkxkrSaOZAD+24ri7CO/a2n///Zve+rI5CjyIUCKkf1QXjelLQKH45UcCkAqEFpMDwCJ2SncfFUqJO6JaiDNwkvbqD+YDAzYHDcIeHry56ZvfbFdfu7pdfc1z+626ZnU797zz2/ve9/72X//3V7T/9NL/3P7Df/zN9qsvenH7dy94YXvBC/+H9pLf+89tpw/s3P7mb/+uvejFL24v+OUXtv/xV1/U/sP/9JvtJb/30vanL395e/0b39SOPvb4dvmVV7Wrr7lu+/wIf1ddc2275trV7e677houMUW2xMTKhyDuAk6Jkfig4nAeCx9Djv1OE/VHOgsftFGKihhkIp/BF0mILBrT+507PKhyww3XN5yAu/766/lxhumxOTlR+USulBjCB+skBSjTuae4opoCK+qlmkCN4iNO6pEt6C03wzgHEOkK6EQA6C2WgfCyR4iruSR/0Fj0ecxUh/02sPgyKXbPASTeo44bEtyXgRIog+K1mTSH8bDdVwryMQKiX4p1Ic6J3wv9ZaxEIxlU3WPusauNfyMxQx+TqHvzNz37LF9cgF3D+mP7pA39G9m2sX37299uO+/8ofaiF72oPf8nf7L92I/9WPuRH/mR9sM//MPt537u59qrXvUqvkFnxYpD22//9m+3n/iJn2D/j/7oj7af+Innt5//+Z9vf/RHf8RLRPiaC+4ohE3/sIwXKvAXfmyyzCbJoa/fERYFUvLvvCgPFScyQCvYKIiUGXIR+fZEQk66Sczlscu2pnnAEHPIMuFL0qT2Sx5bcNwBd/TRR8eZdj2hxpGhz9qW5XzYqDKjP+Z19WER1+kYcot+8Dq5BkgoLWIm/neBhGJ6Hu7H2gVLELYhTPWTPmqIce5DslOetjxGT5rhayjnn7+y7bXXXgSR9wvD6Sguji02qz7Pp61YQ2q44jLZpK8mFX7I75ThkO6f/A4Z44R4wh/3Vx/TF8ddxzEZoX8L7u7DZZktvKMPcW/fD7uR69v555/f/vAP/7A9//nPZ3H/0A//EAv5Jf/pJe3U005tjzz6CF9ptOM//VP75V/+5fZDP/RD/GFl8Iu/+IvtPe99b8PXRLBXgZtA4AuxX8IPHFZVf+G3YxUOxs2pm+KkfheHxzqHImHVIbJbd+VDji3YMofJR43FGOWq5Llwi3RmLr0CKLmOdpwQxpNpONN+3XXXtWeeAV71aUhY0Dj5Kl32kVMacvyOMZaDT1RSuJW42F/zqXJo0tdfGkFhJWLRqUVnbUxOL/YrCDuu/gp4H28gI3lbsDXTbYS77roLX3SPrZV8CuAItHVj2vV7XklUn3yMBGeclOBqsvvqOLo++slF2esx2O+gTNVLwKm662dbIWghUenSIOhSdkvByM5oXz7Q/y1beNsvCPfmN7+ZBYzCxe/nf/7n2gc+8IF27333cs/g6aee5tt0/uRP/iS39Niq/+7v/m476OCDuFIdMA8HjSMWiQun8sHLknF/xX/EyTo0ruMiU32Zo7BY8Yri4dhSKLZN7NLn8IXju17IYvzgN1cOynO1x+bosz8oaLy+GSeEjzrqqPboY48Ne5v2xfo9XO1hI3EUkNM+uGcfZdfjAtfqb/DPftsulhevkwcYgwEtwGKAMjcl8tnv8XY8ckEdciQcdSAxHLt6eF4cwH384x/n11C4JYFCmcVkJD+NSUHaDVKEsFYSxX/7YBDhJ+dtRAPV5j4pVwzRpiaBb112VCI9MWqn84LDiVFo4SPVywZFO07EkmEWLLZuZeE++sijPDmJXchddtmlveIVr2g/+7M/237mZ36mvfzlL29XXnmlts6bN5OMDz/0MA+FsPX+yZ/8yfbv//2/b294wxvaZz7zmXbhRRe2793zvdw6JTb0t+BU8DSpNI2AkkuKwX3SV+IMvQGpOwhXhjvBSgBGemZwYr85gKnnM28qrPSJ/RHbNE4smxdlPFaEX/va1/hpJTyphufNuWdTx0M+ceq8tV3RDDLuC3H7ww5H02XkhsZJR2AROFG/hulRUzTYEUytwMnltGga+hl+gOBgJjqknTDRDvT1RGueMlv1HnUA9rGPfYzvv8bDAJJ3zkNbuCyT1h0yEajCsi0MYHRCgwO1TO8xhjFCSMm2n/Q1YqMFy1Is/HcbdcR4qur2w/OwInthSjEmlvYUY+k0faI/6Z4uMeIuLOxeX3jRRXy7KFaOuCsQ91m/5CUv4dYZhe8PQFIHngXYtKl9/etfb3/2Z3/WfvVXf6W9/vWv567+F7/4Rd46jGvB3/jGTbyFGOdD+oo24gk04aBicHvEFThwaQanxLpwRRBLj8OOjA02lA9mguDYxnQ8UaQi+xj5NugxOpQrtc5B5tOAIwXhW4wHJrjFesWKFTw2f/zx9Q03bylPwkFezvDBdjit+YZs2Mrooj/aBW3HiakIPeaLMJGu2F2PQKRLqiNIOxyWqW8I1srlWSdjAIJx+CfV9HIEC70J3pb26KOPcisOYvKM+madUSeuoUem6rjBAm0tyrhZvmR/+Kc45aWS7qQqAv7l0B6D2siiTAc9kbM92YG8JOU3LWXcTph86zp6jLZFHVu38KMSeFBi1apVPAF0wIEHcmuNt9ZiTwiFjy36Jz6xW/vud7/LrXjHWXrxVB/esPOa17yGVzFAWHyBZs2aNdwNxRtRzjn3nHbnXXfmGWThFDEzzuLjJE7gWG0iBsZRMO9xSTbHBC+MU8olr6SJWQ3yV1sFSQjyZ98lx5H0pPbTXtiueSBf2B52ww9szbGy3Ol97+MDVDxBnM+bQ4P4oknHw95TwrhlbCFHx0Z7jpGtkE9Exdfeblu+GYaScIY1SsegzGs4AzbttwxFlQ3pSMFEN5yxytDdM8QtBbYuuLsNu+kATseFftKMqvWHrgaAaUvpKSoVRzQQx+wUIEpAjAvAYMChi3Cln27Ld1kXkBzAceFThCf9dNaBEweDwX77H9NArMdJxyNh/Aa7XmL5zW9+s5100kl8NdFpp53G2y2xVcfZbhzy4MQQ3kmPd+HpJJpwJEnCAeCLFSmO4/EAEJbxjXd87A/3ZuMFhninPVa4111/HfcGoEsfsFBcwkqY0WkSVe4Lv84B48R2kHOKU+Yn9OXQnHG1WrLjlNlOpZLN9EVuYiRhLfOJC0yVXCgG+ep59FOepra0J598gns/RxxxBFewfBdcKUCnuPNBPjL+MEcZC2Ia8zEXixFb+C0A2dX7iQMFAmBfQjNA0GHltuM+TGlD1FTA6YLGFRk7EC6UfgHE/gxKb33B+63x1heABdLhTK3llKLRByXKPUYLQ+SXEhHzhC2Dol7JadwgRaL2RBDzHkFuoYWBuWQ/Rh/tP2XTB/lIJAVqxBn4FxwzxnjcFsWHS4rYymI3EQX6+OOPxWWrsqu4Vd+JQ8HjLLnyQIsRiR7+Qb9kxrPiWlFs5B7Bcccdx6scWJngYwNYmUzPogty21EciX/GWHLEGMUFjKo4OSPUxmKR35TJZdmS6ohLTjBd1KnEZb5m852+KW+wXbKg+dDLHMosMYRV/MPWGyvUD37wgw0rX6wkA4EY73xj0YVqD2NaOGe+2RPjqKla6Qu1h1TiIltotQ+Tm2HshEbTn1BUDfSYHeaYVIJJp0OfLMbaLxJLsDy/lVsbAIXXOvnuNmoNUMZAYdfBSAdDCpvdPqUYAT0NIOW/kxogM12RjPBNCVFeErLUwTUiXKRYB93+yEcnjD7ZE44JudAXSohUjRXHfbhn4KGHHmxf/epXG46VsXU948wzuPXGDUO6h2As8KpDtkucadPxVp81D7ubN+P99s80XBO+6MKL2uf3/zwPpZCf7z/w/XhAQ3aFg23M8AH4GtfIXfoocIVOkGvMV2BJHfIvxyaWikV5CD8Y52KM8m7SHrJMqPMUftJx8pAdWow++AGcnnziyXbIIYfwMOehBx/KcxiOg35F/PRdxCDrqDpzErkgDqTDWDdiSK64CF2MlV46lo6irbw0AkGHgGYiGAFsR+gbMSxgl4AVjPs6kGN7P2mE3b9NmzfxfW1nnHEGQeqP8Wn8MDYcgPNZYelvB4gBW0ZQJlhSkdUpJCkjDDQs9JNYQVrPQyDIxR6DLI9oZ7bfcunvIj41VmxN8U477HKfd95Knlg78sgjuRLEns6mTfGJZseZegMH+qs4SpkMOCSOxjVjNBa6QQfv08PbUfBmHnw+CM8T3HbbbW39+sfHlQxiHPjgGD0l7YsPo6+Zt8BqwNeYFxzDmjAX6M5C5EF5Tr1DnJ0vwJ1JRfwuJMbh5tLP9GsshuGM+uZNm7lXhRPGN665kRstHP489fTT7Rm+SSZWhpET+kP924jfsZZcGhP6a5zoiH0KX6NPL41Iw4rKiRcwPXS2CzMyoPabnMK5G7MMQQyjIC9udsHD93hOHCeLcAyO21fxeh18qbTuDtoD2nACoMtJnZI77MhfyfFvtnfCCTD+Vfopw/D0pyzP6dB4xGvxSBqX1WgM0p/0t/thGSjCGdqnN2xo+GgEvvGGTzIfffQxPEa+++67eRIMGA4YRWzdHyWaekt+MwZi1+0b2xgVRRh84FZdx/kPPPAAVzLHHnMsD6uQQ5zkewofBuRNPLDQeSRc5vgg27Qb4AkD4xfT9L3rQIz8IWbzgWwIvBlbkQ9sEv+Q7fYChxyXFmJFgX7FJH+1nFjyefOtPL9x6KGHtuOPP56YYCV4wYUXcGW48RldJXK8DLngVPNW/aJhxklr8tzxpL+LfeEwcepFzuG0GhF0kBgg4ezgdmchJ1D8V30GAlMlwwnBGg6FjZs2Xv3qV/P4cu+99+Y12nV3rItdHaz5CthODJOqPwJDduS57PR5JZ3L1GUPOgllJMaFTHpLB0Ycsi8AZqyiXBZGl1FHqEkcEifEFC7CM+wiY9f78cce51YTb8I5+OCD21lnnc33f2OrnrvmzAc0yb/BD7YKI0qQFDUP8tDoAkc7wtnIdaJlUmGLtXlze+qpp3l/+sqVK3le4Jijj+bKGldGcOurrxVbP30jttFif5JTBSemxgjCA3vReaZWyyjObAuudQ70uYyTNqC56IgYqc06gg89Dg0U7zTaGrDCRX5wshJXNcDnnXbaqf3FX/x5O+ecc9gn+4a6x9P19zbGE34YAUZCP42KY5AXGWnk05jkMTmHoROgUrnI44AYfPQpadHPEQq4yuS4dNSO4Pj7Ga7p/vRP/5T3VL/4xS9uL33pS9u73/1uvoUVJ5Jwllc6gpxBEoUnMJI8aUMeoL36SChChhLRT5kgGm1lcWi8+9UXfhiDOZzqeBMIdv0LrBInyNCUXlSJQxfcr4/vY+PcxCGHHNxWX3tte/SRR9qzvM3Ux93QECmM8Zk3LLPb/YqFqaU95Spl6AARknfEib3EsOvtcWCLzZXR44833NOA+7f33XffdsEFF7TvfOc7uScmT0qMgXt4ZoQ6BsaCPeGDopmRiTgnOIxYC2nmMXLQfTIfEbYwolzqm8Mp2pxPgor4dO4C30zDivmv/uqv2m/8xm+0F7zgBe2XfvEXuWXn68O9p0OM4Yn+JR9Sr3zqOCnfcrPjKX8rDg4lRlLf5FFTABQxKuEOGFNirkRPQbMzdjv7Oc6hSAp9z2zYwONMPAyBhyPwIMVP//RPE5g3velNvCnjiSfWszhoOIJP55wUYqEEhXvyO+JwwgWGY1CxRmhJtCqzBqdTTQAAIABJREFUMC6EGYl9MVZOFNo9jynDDd/C39pPrOK1QtizweHLrbfc2vAGnN13350f28P1bZxYwyUZ3B8uH0UA4yKIO7awkW3pY8RMv8K3mI/Q6Dn1O76ZfuqmpHiArTou1eF6Pbbqn/rUpxrOGXz9G9/gGf96zoCYyjFrYK4IlPEpU9taiNP+ZcKF8eA7cyH1xjkxKT4wdsJZuMHGyJtljWPkmDqNT9PeDV4Vvvvun+RzA7/0S7/UfuzHfpy3DOOOQ+QURa57/KOGiII0McZqy/OBFPsDG47wfMbZ86+hfRm4x/PkJg551JNg0DEyDYswQyEQIwPT+5nABIPusXA3PKMix4MU9QGJn/qpn2r/8+++pH32s5/l7aywYRJwln7YlSgZ+5hJj/Vi+GQdEIseTlKfxxmw8FfyvSBEIgylYm2dnQQKK3kqsqBoaU8SGsd4nNZ3rGEriBNaBx5wIF/ijxtacELSx92Jf8RFT6r+1Kso0096XIiVRKWEUsSYIegYNC8bkIvxsLeAk0gOf3F+ZcWhK7irikeE78JNNE89NX5aKHRZp1SKXz1XxR5dWexXJiKpdIsaGa3ikATRcH/g1ftDCzFVnKKY44ypJtRNFY4huIOVGW4b/uu//ms+5PPjP/7j5PXznvc8brxwCdJbcmNsH8iUwLTWVMrJauaGXk7ioI4pToUPk931nlDpKeAysKi5DNIgGODeDycXAKMjjWt/nDFGkeMxSGzJf+EXfqH9/u//fvvEJz7B41FsIaoOeaImtsMHZzB842IEa48sQwBTIOIkEEq0ZiWtliB8GHYCqJehyYLxruAzdKoKdkSDdeDYG9dSsQXEk0wgwWGHH87d9HvuuZeHM/hajNf8dJuGIv7AEfrCe07lQ4ddRIllooWYvGx4S5zOa8gaE/mdRjvyDA/jdQYeOfNNNLiB5thjjmnXXH01TyByj2TzeEMOoQ0dzql8dvYcr+KUW8I0WmJY5MJocGUVkEz4oNYRB+LmqKg4MKHBjpN8Ew7OJcbi8AXnI3BZ8+///u+5R4oNFh4OwpYc937UIqfT4SM8x3/UR8CdIMfZ+zUu4soVQ0TEYSErjdBK7VnkNsYOO0BFJoGBLMuU64CkRG2f6ti6tW145pncXcda74UvfGH7y7/8q4Yzk3jtLa4LoxAM5HJTAR+Wp3ZZBAh89JmgRhv6BIZkpsssihoDgav2OhHTT+u0P8U+ts646QfHsrjmjRtaTj/9i3ylELaGGXcZk/6H7STJRIZYRBtjtP0ZHOhi6JPfgYrHSKBglyj1vDjO4gd24fG6YpxZxs0ziO+UU07l1RMckuBliFgpVF+N20KcsF6wd396Uvogh/bsi7Fosv5BxnHGuCrD7E77S4yDbMjhpRGI76pVV7UPf/jD7fd+76UscDwkdNJJJ2aRL4xdTu9SfW731L6W5YpFL3IGa0C0ZsbJFb0kAC8P2MTrsmqr87gVEsv+jcu4VRU6aj9e8odjGDzq+KIX/Wp745ve2M4++2yeccfuK45R8atjFufRb5mY0kf7sanhVT1OrBLHzGs9B2CCFAkIMOBvoArleuJLMXB8yIY+2gs9TGgAD19wmILjbNyxdsDnD+BDJPjcE24txVZQl8X6ykYe9hUU/UwfC6ExG3Y05WL3e+gL/VETtkHdHhGFQa2JU9gIGa9oWESBo1zbwi0bTq7ictvV11zTjjjyyLb/5/fnmWds6RGrV2Ysdtow9+SRYi02IWO/OONcOoKYok9OKffGpmAgjKQPfmCvqfPUvDK3xCf0m28pm3zTizQQFwr9pm/e1Pbbf//2X172Mm7AcPsx7mvY+OzGomPUb92V59O6US1qXPUH1+iNJ1FwzAKs3gyDbl3Yx5tG7r//++32teva7evwu6OtjR/mvVzn3Y+p+z1fl9H2rVtubZdfcWX7sz//i/a3r/q7dsqpp7Y1N3613Xr72rDZdczZcNtUb/UB8/fdh+9WbTJ1WcAqvCAUyRBxU6oQLYAiCYNPlAzgNCFisaWg+txqSLVegIEVFnbXcDMJzr7iTPRpp57GrR0uu/TitiGmKv2mzy62tG8Z2RVxVRS9cETkXqwlvi4aRRGxlALpEPS+AT/6Ip2yGRiQR1t4whB7J1ih4+YZxI2bafAiROCBN86YnLXwYMMxsF0eJrbud25ShisC4eLxUGVscl4tPBxCUa67407yezk+Vc7VeXNObaqXb918C/n9sY99vP3+H/yXdsihh7Wvff0b7ba169raqCfr8HhMUWvo13yvgbrscX26jleqEAfvU0BsGbNw5HVygUUK8xY9XKc9/Ywz2qf33p8v5tv/kCMbfys03c/L02ntx/zc8ooj274HHdY+tfeB7S3v3LF95ON7tr32P6Tte/Dhs7bSbuiyL+mD7Qz9R7S99z+4nXTKqXxgQKSIZAdhXIREBFiY9FFabAiy9XnRKWikQSGj8bG10QCCjrd54rISLovhLTd4yQBIjre4oPj7o4mZHXhiL2NrpNzQRvRhXr9w3jGwXfJWw/hDpdyd6c8tpQQzRi6KLMJKhtIjdqnfGMAxji9XD/DEGw5RDj7oID7HjjfYYK8GWz/45xwxJrG0YxAxiaeKe/wbWDgGBh4+eD765BsU6oTh9TesaXvte8DIvSmvl1seeCfO73fwEW2fAw9rn/zsfu2t796pfWi3PdveB6zYpg1wuvKa87P87vWIWtrvwBXtxhu/qkuXDlBpInLPY1s2NG75Hnr44XbokV9oK47/Urvg2pvbhatvHX/X3TYuT/u9vITcBeV1wStXfathecHGNnTMyoc9+HzsmRe3gw47kq90FomCCAiY/4mYnq/1bElOQQ7/iyHioEqsEs9kReHivILvDsMz3vvut1+7+OKL24MPPqBdc94H4PMOtlhWEqF+yE/kiRHQ4fCeDkXZUUYeK1Q5bZ85TAqiiHoc8ML9FDFObA8UaiFZTwySpqKDDVjuJ+ZwHzzOvGOrji+F4rFWPOLKFR5eJWW8U7dixF+aqVOCE2GwPcZzrDBVDjlaK5LIP+zA5qVXXNX2O/yEtnLVN5fmILgIbpnPnpqjnhaZC1bf0s6/+uYGfuOH+VnOeuxzndKHW9pZl3+t7bvi6PaVyy5vGzY8o4wBqJLLfCWzCYpjggcffKgdcfTx7cTzLm/X3/kIX86/Jl/S/3hbc3f/+UX+02mVmc53WX80QC/0n8qtufuxxl+xjbHwZVFW7eiHz1+6bE079Mhj9TRbvnuLocdWI8jPpLsQTBJMxSaVTieJccI0hLQKIPl1phW74GvXruNZVVw7xi76rbfeomvePk/g8ZkQF6kS1KvNCbO/Qeocz7xGUqv/4R+G8z8vKzaWLHWUOEMnY2RzGaMoGbMwwKzswdfUx7nelzhRdgtPvOG8y2233soix97Nueeey4dtcMVBezZ9vDCOmKE7bSKo7p9qt/pDVykjH7oO+osi3/hsu/zKVe3wk85q1659UDwn55bgV+F95V/nc+dmbavzS42zjPrB+/ChcD/bwkd8TOOqm+9rK447vV1y6eW8FZqxEpqOVb40wuDhTjMV+QntpJVXtuvvhEF/tfIHOUUQ29K3PTKLOvA1DxX5cVnkTrTJKD6PBcV6CBK537iYGJ663fpwdhWXiXC7Lu43x9YbH2fEbY4+saYzywC/k1h+9YQEdZPM0E+bSXCR13Y1BYGLDsyHvPT1Yhj9Dl1ZONIhk9YHGekLxzmRvXE8pLQanbTXlUfZquPuPuy240MFuGEEJyFxYm7jM766EraLfftPHyuZHS9dcBwdhz4u8ByK/Ox27boHyUd98mlbvJvrn2ubcnN7ZKZjpsujjlW33N+L/OkNwZvOB+QpvmqqRmDmLfmRx0SR3/V4fE8Lxuq3szzfv481378oN/fhvPlvdnXds/3Dd75gZz2/0YUV05cux5Y8ipwkFmG49me4JkKUQSWSqRrjpuSO/QECyrOzmzbxOine94UzqXjkEJfH8Ow1tuoobhVFt7lQOC7m8MOkZOEMRTIp+kJuUjpk6SNEI1bGQFnj0Ptkiy5S3vGqhlzso13GA31hH2Y9zr4bJ9uuU8jghCNOGN14443t5JNPztdOAbcnnniST3b5ZiDiYFt1WueNU7TJnuINTxm0fc4t+cko8ofKd+PMO087h8XxaXtwL/mI/i7T66K3VT73ftup0zpmqnd9W3Xr99uK4784bMmBrVaCyl1/1FTp5V1W2JKzyM+/kt/kksPVmJ2Ya3Pfv94UuzFjkfvYN4osizyICVKYLGJrWU6qDltXkXQLX6Bw99138TgTD5PgxgeQlm9a2Yh3kMN22A87TEApZlrwSsZ+5HRmJcSVj4vPRRvLMS51qjYRKH9ZgFgMfyLkoR94pETRMY+T61ujaMO6qz9USA2JJQodx5I4f3Hddat5YhL3S+A9ddgrwi78cCm04EYyw2viETi433bpe7fpFQ3G4FmBy65a1Q5fKHJwd57bY0HOy9QC/pecx54wi/y4uSI3P3Bba4ChlOINLTomd5Hjg3g/EEdn9wLKimAb/SO4ZZzXnmU8ixzH5F/wlnyLKCeed/IG8bMASBh2Sz77oxyyuPBAwsb24EMP8QsauOEDX1zFrY14PBS77bo0FK+uSoxVBKqfmA8bLoyog16ApV9+qqBAVv9Lj90WRel+WVLwbFsGB/WbDRF34mCN4YMCoR+UhN1cYiTb8DF8iq06cPv2t+/mChOPHePBFzyCjDPz9RZfFjdzMdrovst/r7zsNabCUAWwceOzWeSrhy35DL/Msx/ktHB2yRpbRgZFfjW25LXIIyfKh+IctuQAYVrkKBg5EGutNDq3+17XbJivywIOjlV9i8Wr/qXaqZPH8j0RXVY2b/DueilyJrdupQsdnXxSw4VSCZFbC+xibmERY5cSJ9Q+8YndufXBM9V4BhwPk/jaL8kYelzEcIFUo53YCqV+pkauZpsJ2wkKBdRHoqtfK4eQcQzRbwlNtQZQzLLX48cciNHboyWLVXHQOcbhMuOI8Eu+WId8tZz81kpC6fAWRx9xwKOquLaOvSHcy7/HHnvw5iGclcf9G447nAx/Q0dgBsv8BQ5cIRasFCNOvG3UibeTz26r1z3Y+ZocB8d0CFg52wtSfBuXNWbk5PRTz527dazOUU37XA+jLejPIp/srgNr/AesEDtPvJE0hAvH5Djx9mDZXZ/bksswHOzBVOd6fw/iB9kPXTM2Ijm5ux5FjqKLqIOsQdIAIYkbwJgEIpIIhN1KXNP1ZTHsmuM9azixhtcdY8uexR30tx4TU6CL/C6B7GNW9MdFRnLCYxadqCvyar76rRw6TJUmx2Ow1KpAqA/90RwYWLb6SJkoXPvpgbKtYtIY6eS87QXaluU0gpHZGB8+MYayVceJOZx5/+QnP9lOOOFEXmfvl9t8CBS5NACBFfFlkcsZ+QBZkR/LY5E/JC7Pfru9crdzfuT+DB8XtvpdZhxr/eqf71vkfBa5t+Rx4o2ZNQ71KTSnHSfeHnjwwXb40Se0k/KYvK6JZKw7Eo5P135DgFPnsRzjKDfX78CXmi6O9wplYXed98HH1oM5Z6ajQfOd0GZolwEmjz36KF/Sh1dU4V1nOLF25x138Jgxi5tbixifBLeZKALyjNY0183ECBWwKttbOelIzRgTcWSxBKGzZjOMiI/1FCsMjxfj7SCnHh8Wss8FqqmKRTLWb1+9UqLBiNFtUAccvCyZXKZf7teJOZy4xLV0nMzEIdF5553b7rpTr4jGHV5eA0pH+IDYYdlxRlCwXXHFdXIfk4+765Vb5l+0Jc+nMvPLvU5UN+Zo8j/1Tfv7snRAv3/yCUWOY/JDJ0XuOCPlftQUECkBw9n1WuQLRTsNSoYVhJ3xdHv7LGfdc+Mt4+mizHRL7qe5lPQx0RF57gYaBwCFXW+QDC8DwA0c+GDBscce066/7vryIgc9cJHkJYFFNhQB21n8HWPOFeKlTOSg9oOU7uc8y8YMFovR3+Wi9Cqhww/JuDTDR+uPgrct44Axsguvui9qLli6j1LiEnTk+CxuRpe6hv70Jcbzctsm7kHhXAfu+efTbccey1dQYRce7yYYV7Lho03nikyuVHvzRb7Ip5HT5t10Wsdhftrv5aX6PL5OPaZO3a/d9aXPrjtX5aURSqp31+Ps+kqfXZeRvlaadxT9fa1THZvO29F5PbmWG7b21Yd6nDTV/QSv7Q9n1+NOKubbyU9+5kwSD6TB5RUctuCaN4obP77P7O67+TkcXBcH0V3IWNC/5DVnsmgqgYP86hOhOX7QEcXlIsspBtcx04Bc5JLhsCQ6Eu8iL/001e3Rr7ARZhMb9UnJQmyOccaGXCg20u3elhiU8RwXb459Yv16fsAAe1MHH3wIn3LDK5BxDO/7/xWg4lS+I2aZQdD8wfeli3yRUy7aXgNdZuD8sGWunMXe8FJ8h5xqYtC1sKLweE29Jc9LaN5dz6QJyDjxRqoC9mWuk9uRHpwD71M7YZnp8pyObclM+7E8bbM96V+8To7jN+XXFO8EFdvUrxNr2HrfvvZ27pLjeBCPTK674w6e5QUxtOXwMaEVx5pTJQh+sTDSsB3wiiFWCfADMty+cZ4l7F5uxakMLbEmllisVLr5EAu51BBx17EYw38xZXHS4XR3EacwFLLdB+h37BHLNA4ud0cl7zgrTt2fjJlx6/VYuN8A5z5wDuTaa1fz1ljcUYiXf37//u/HrbHKNTFNrO1jxBg654u8cmlxfrEI57g4bdvW8tTOVF68Hnmvm2R4dn1y4g1wAz+FX1/JzKbtOLs+rF3mnKkOb6vfztcx07apDixP2zxefXlMnjfD9IJkMZk4yVsd/+FEDLbeeJEDjv9wYu0rX/mKHhPkl0P06GqUVy+6wM5kF7wqNhYxC6qTnFSOwuaY6JesyM+/UTwkbPic8yWGcESrldCbNmx2KR+pR6TIMeFPj0NF7H77wOXih3GxP14eMAj5lGGMKsKqb+i3j5ziPvhNvD/httu0Ikahn3zyKXwXwRNPPsENFXENtnvefjgOPPrpY/LxZhjzacpFt5t/S3FxqfbpeC9Pp9Zf26c6ly7yxC6w5pYcjax63PG2XdfJ55yoDi3Oz+3m3Fh3ber8sCJZ1NX3HEpfGZ9FXi+hMeFIr/6rBMSuHj51g0cicTMLtt7YJeRLCZ95ZrxGC+DKPyiMFWdu0dxicqls+6jBgyA5iRea5GNsHQe/ZSn7I4nWZ7tajtYsellgrkOnbcIz/EcPXRipJPxmnJrvfAl/yhjqCpsxMvdGJN3tUDZisEuhkb5EBEIFAvYhvt2O80e4to5HeLFS/txen+NWHW/c8dNtDqPnIrya7K4vXeSFY9vk5XOsi8LZWU4vdfUqxuXuuk+8bdBtrcaNgPHTxQY5CLZ9RY7AlwvIa51tyTwXAC0bOpcEaD3v0uO967XIyZBCobiH2ifW8I41EAV3W+FLJbjdUm+o6Vtv0jMJDCihT1OSSGWSBM0tBwvZlI8R1AMV0lHHh8ay0uhbumB69slG16n+iLPYlYQ0y2bYDZ/HWEJuiCd0OrrAQZK2By3Wq3lG7QpGb4yztr7SiXHZL00pnzgFFhEb+IqXceBy29nnnMO33OJ1WuPTbbEnN/FjegltvtAqh+u8+Vin7ve09nl+uT7IbKvfenTiDbvrh052151rckP3rpc1ZByTP7BwW+sSxvNEmw3bQU2x9Z7dgpdA5vutb6mp7cz385h8uONNlNIWSETDVgDXXPFQBK5547vceD/2/ffdx2M734qqMSOxVK698EhEcTRJTIrTLPCFTRU0pib+ONU6g9SeyLCQog2jtb7ylt4ppZmwJQ/lVzhG9dN26aBzLC77FlMXZRSUSaNQpEu+wSfF6DrKOBl2tRtxcojHUSMD4bhY5Cj6FbrpD0xpnKBQDHi7C07Afe3rX+cbY/EyUOQTz6zz6ba4jEp/wyesxPkUGm+G6feuj5ysXOu87iuE59Ivvm5PXXT95jjsVFu9yPPEW92SB0TIy/M6XmoF+ccij5thhi3naAwOLQlMGYfdCzwut/rOR9o1tz/Yrln7YMMTY2gfg5ouO9A6XZSxD4tFrpMxIAeO55584gleFsONFgcccCBfpIjbJ7X19ok1E2kkKAtHZSpiuxDE3U7AkKF8FhCHsKcSVAXB2o16k221m+Aeq6kK3WNCnuR1obro7L86u07bUJFkoTvsMFDjxXza5XzXwSKP4tFKIPyY4mAsODTGG0Ophwm5Q2OYRwx1Gv2DP3pmHQV9z733tAsuuJDnVHDJ88Yb1/AmJpy065dTdXZdj5rijjcXOXi1yK2xbal+teOx0WvXPdyuuf2BdnX8rr3j4YZbxKdcN2fF/zm9lfPj/OzueuDU81E+XWwQF4v8MT7ZNRbhaIzH1ijmLGg766nWOtfd+Wi7/JvfbWdedmM76oyL21GnX9jOvGxNw+NyAGY+0K6j66/20T/eYjs9JsfZcPyQZFxbxT3meD/4YYcfxmM47OrhGA5f/xSRNc15bWNENvFylEsii3wqhErMmB/IW2wtEFhsT3JrtVDIHoSPolAtdJ85DoWBInChVB9tL/sVFFcHHMdRS8QIvdM4Pd6FHUUYdkg4+koLvWBDkbmn3hpb1Rs+1RWCx9eVAL/muokrbDwViPvfP7XnnjzXgpdL4vAM52B8mXRxSy4+TTm1LP95rN55euXN97YTV17ZDjtlZTvs1JXtiNMvaCdfcE37yte+M2zUFgvcOjytPK/z6s8ir7vrzm3BKZ4nDxIGQOOW3Peu16319jlhYOAMCu+SG+9qn11xXHvbTh9t79p5N/7e+M73tYOO/1K76uZ7y1qu6q/z9qFeJx/7YbNeQnvoIX13e/3jj/O1S3j9Et5KctZZZ7U77ryDSceKrT/r7WIxUWO5gCZuieymdRKUILsIXBAmd+CsfVwKdV3q67uTJruJ7ikM9D6Mz6rL9t7vFYBltAIIr6UyukI/HYqCcsGziIxL+Jlja7vjjPEmXOrUSidWPbTb/VIc1ADdCpOxpc+0KXuKK8ZUPzEf3257+qmn2+rVq9u73vWu9rrXva7tssuueR88PkKIlb6LvJ94W+STebzUVMWqceD6mZd9te3wnp3bG96xY3vXBz/e3v7+Xdob37FT23WvA9sF19/OWoDcqA/LbvO0Fjbm3a4pdAwPqEyuk3tln7vr3FjxeXK9NMLPk6M4R2dkWE7CmA27AKeOPcGgsNty6Cnntb9749vangcc1c664uvtnKtuarvudVD7hze/o5156RoW+bh2W9RlX5aUuzuK/LI17ZAjjuEJGX/hY9ddd+UdU/hE8uOPPcYTa76JwoD8/9NStCyef6PLW7by5RNXXHEF3+f/W7/1W+1lL3tZe+UrX8kHX3ATDc7JXHLZlXozTO6uj5wbeMZzTOa7C20qv76dcuG17bU7vKfte+Qp7dxV32znXPmNtt+Rp7RXvuq1ba9DT+Au/FBXuQc86qq1Zd7XqYs8b2uNY3KuhmMljJVovxkmEoqtWn2efPZR03TKAU+d87L6sWW95MY72wd337u95b0fbBesvpW7LXjlzkU3rGv7HnFSO+/qm3m8riCq3joPvViettme+nGcf+alN7TP7X8I36uGWyE/8pGP8I2h2F3HB/uwJsddbXjqCa/D5fTZTZzmq2/xauh8Fe+zfC01bqCgPF4HzX4tY56/kNdre/Eqa796N/ptDzbxuuoYx9fvct6v/tVrftVffZSv9hF+00dOw6cFG/2V2pSPfuTadq0Dr942JkvH2WU0booT/AifiW1gxFdoT3Gw/+MY4RYYOD+BOfqmPgrLEacnn3yqXXzxJQ0Fjvf74x3ov/Irv9J+8z/+Znv961/PvblTTz+jHXrimXz9Uy2gPh9cS86bg5VzMR8rgVMuvKa97q3vbYefcn5bdcv32+o7HmkX33hne/v7d21ve98unAdHu42pruX4bdlyndyvf/KbYWJ3UHtFUeSodu02Tt4Mw3vXcbLAij21E566fX6KgFDEO7zng+0Du+3VcMyCtRCKHycocEy++o6Hy+5617Noux77d7kKGOyd/uXr2j++a8f2xje+sb3jHe/gFhwvIsCdUtdffz0/6YPP+vi3psyzbc0N7Qb8pu11eVv9VRbz25Kf6y9t9LEsp5833NC6/2vaDTf4N9qETJeL2KAvdM72b4/f24hzweZUfrpcfEr8i4/ZNh0Xy7K3hve345Lor/3ar/FLPf5aD767h++V/fEf/3F72zve3fY/4iSeJKscwvxz554K7+QLrm2v+8f3tiNOu4AnmLGhBOc/vvfB7Q1v35G1gJPPS9modut8+hf1iBoaXhrh3fU82NFBTzkm1/Z9uiUfdiuGmwFQ4NtT5CjmR9u5q77Vdnjvzm3n3ffmy+fgoAr9Ua7ZUOhYnt9S206fKvi+nAB8Z3277o5H2qkXXtNe/5a3tx122IGfXsKzyXiSCS94WPZ3yEz/XNu29KxY0Q7ZDpk5X+q4Or9ixXb4HzbruDq/aG/7dQ5j/5mYDDq2G5+lfXRsnlb9yPmOO+7IDxzgm3v4Nhmm2KqjyPFZrlf9w2va51Ycx2PbzqG68TDHatvS8+AwTrJhS84ixxWkux7nOSccmr7xnTupyO9QkcvmaAPcVi3ADvrqTysfy8wdk+fuepxH6i9y5JkM37tenyf3MXk4wrWIjNpQBydkXPxxnRxn1bG78pE99287vPdDPE7BlhvH6Thm+fAe+zbs4oxn2K1rDlCtILpdy8gvrFS+eMl17TP7HMjr4Pha6Nrb1/KONry8Hp9iWrdWy5jyl+3og8za+K3jm1e7DNqjHzo8T3m3y8badernNO14PF6iHz7hpfu0ibZoz2mXkU+9H8vQQX9jPHyTDk/Dx7Rv3zSlToytv4wlZDA2MEscqA/98sGxZH/ocLvj6zHIP/lahOKhAAAZYklEQVTbfXR+PDXWjKngVMcpXufTca1rOPeCOxh//dd/nd8le/7zn8+Cf/nLX94+9KEP8dmEY084qR183BfbtWsfYDGNGw8XWeWXt/BTfop7KvJr22vf+t526MnntSu/dW/w/Fvck91xlz3bJV+9mxu+kb8a7w2n/Ji3j3GuveFmmCV3172rXoqcz5PjRY71UdNhl30aoEHwdOzH3gBeHYvLCa/Z4V1t9/0Pb6detJonKHbeY9/29296O+fHIreupaajjQoYDgPOunRNW3HkMbw+quO7zXwhBu6Qwt5K/eGRUrwsA5+bQbuWJYPr6n1M9Ne2Yb73j+Oqvc3Ux/6wC9v8bUaf52MM/Y02yLk/fHUc8BknEaWr2Kv+pb3SH1hwfMwTi80jDh0DjZW9is1knv7UNvlObIufHSfHXWNETMbBsS0xtZzj2byZ517w7MHv/M7vtH/3gl9qf/AHf9De//73t/PPX8lv8T3y8CPt4ksvb4eddFa5Tg6+zXGrttV581NtKHKcePuHN7+z7bbPoe24sy9rR595CXfV/+Y1O7SDTzibew3gaOWs5uf0Vv1jP2yxyH1bq4s8jr25s751cp0cdQ7SLHUJrTs1Guvt1aEOFpzBu9AvWrOu7b7f4e3VO7yrvf7tO7bX/+N729+/6R3t4BPOyuP0RV3Wuf1TrFT83nU8saTroj5LvKVtxfVw3AHFu6B0y6OupYdMtKOt3jyB6+i8ls7r6eqjjF/U6LPR1h9fEPHdczhzr2vx1qvr92q3H/AB/frEUj3bL1s9Di/Xqa/1s83x8T4BjbOsbMBm+BL3EmSMiGUmzoX+GFdx6nEqlsFmYCQ9xmGMFfKKo/cbh8F+4GTbtuPpMxs38rj8Va96VXvPe97DO+DwNV3c9PTMhmd4Jxw+rnD4SdObYbafa52vqAntYeI+kLe8+wPtv7/6Le3Vb3lXe81b3t1e97b3ts8ccixPQKPAURN9rO3NtblvcQodfGnE7HVyX0Z1kfOapC5OYi2+1Nn1ugvR5xeNK9ixHXe64SQbrpVjK374aedzyw5AsNs+BB4APFcbBi2LvLz+CWu1OOnIi7A+0YgFEyhlfF03VoXop1z8Tfm4TMFjIPeFPu0YQXeAjXY0euoVgvuxzP6QCAfTFnopoyh6u5PZ+8NtXmOmdLUROiAT7tBHnXyVjrAw9NuevIOE7DpOjs/4rCF8sv0aX8RDfcSi4BRYEA/2BXKeZz7CkwjW/uW0Na7cH/j+99tXb7yRH2/ACyFx05Mvm/pR0yPittbl+Tby2VzrUxUodFx5833tjEvXtOPOvrQde9al7YRzr2hnX/mNdsW3vsdXP88XOPRjJbGcnbHfRZ63tWJLHnmpOPRLaMoLd/e2p8gVnNZeDhQOLuckdsdRzDhmxskxTPHTlyF0g8ty42nHIOS5gQkodz/R+CJHfkGlvK2VrBZvTUwDoUqMPoKk+mCdZXGBsGU82yUcFAyK97EqnE7eoKWoTl2hM0kt/cHbXPnQX41icanARjtFKWdjHUGFKpbwNWIgHCy+4l8WUYmTMlH87I++ASdYqP9qHB6LNkYWf0f/WbfGBLrjhxnlyf5nD2XUb10OSDBhnA5hdMmPxc29E+2lTIu876b3LeoiH93Xi7rKoPDAZ2xocC7KHMcUbb3ArUdXi6oO11Odqr+M4XH5/O76hKjjdXJ0Ynd9qSKvRjUPo6PhUWaxXyDgDjh/CcK3s06KNc/kT/VPl6fjylNo5XlyFxypVshsprgoNBUxSS7yJYgVhKOuYBdkTMkpGdFDwK0jiiR94IpCxGSJTPvDT/rovpjKVqwkaIdaaY8+xVjHtRhnt6t4wlfrd3zhY8bp/sCC4U/LN2SEuYt8ilPYL7I0WexljGwrRW4f7KOXBThXCrLtFYTzqVQZa7z9Fc+Te0veubttjm2L9+Z5nY76l7OxXJ/5rkOD4ex63gwTWAWW5b3rAmJa5Fj7dOdsYHun23B2ya1xHVfnYRdb/Glb9WeZImeOnfAgX7SxGEEW4tNlakGqGNDXySMykTa55R2KjBpDXtpzy5QkjhWFC0kkjESpipK48qHb9xivaOxjOJk+cT0zFMWkyMI3j7dvXGYRFUwKTu7/Z+E04MEKlb9De491sFVy2du9tgtdkUuF7Xz3XC1d5JVPMb+tPcjYsv7zamWOz3Nt1RcV+baukyPa2F0PAGa25L3Iq9E6b0Dm2tznaZGJXftxNwX9/s3t+sf4fO+69XkKO+vbDdNvoeEETazVQAj/pgViYrM9iN3J28nWVbhQoi9sRM1mgUk+Vg4p04tG8p189IN8rTJc/dD36p99ZpGHYfeb/Bm72K4VxnTehVX8M06eMg70p0xdEQUWUVhVRj4a9jre+I1xhkTBz/2ylznhyqboiJiMxQIOgY/H480w80+hiUeLBVt5Zk5va7o4Zlucn+/vdtyPvYS5Imfczi9fGjFZS29zS+412jZ307tTI1gI2r+lZNAucBzQOGY6XrKWYZHXb6HxLLPIYOLXKedJ3F7IJrYI08kswoJ0Qbicqo39BFikHu1QWxYqi4b4Q5d+ILj+L+RVdbG40Nl96PPjeLU7BhVcj6H7pC3fQIrJys06PJXtqkuYyWljTC/DT2Pat7KKO8bZ3oDDuCLo8QZGOUZ2HI99I4YEseNgHcJJ7ePz5OXjCsNTZcs9DGXemcfTZbfX6VIy22pH/yiDIp+/hCacjAs/XcwEBnlwdn28Tr6N58mz6JcIZFv9eeyN8Q7C066zF7vbqkzMhy2c3BveDMP3cwcxJ0Vi8jL5k62n20AQyUlHUJhtUZsL/ZbBUPGt6xAJQyKaRT44IFXsBZnpL1XEn4iD40ziHCSZKAKtG6RD+jGoj8dCkt+GHWv2wZ/wWAqLkwqO+ECtdXCqP/Ifdkp/xKxx8g/9UCAdnudS2A8dIQeFdlW6FUs3NBMnDcg4bOebYfISWuWUeLbIO/Nvenv14thx44ZxRWamLlC0i2NsD31jv4s8P5Pk21qJUYDZP65gIujE27avk8vhZQEY1oZ21IGOzi4dWB233PyoD4cYw6eLt8ZL+MmdSHKQWLTqiSedo0hqH5mdxRN4QUcQW7iaaCY4NFh3aNMALlBLklW6RHYlaCBxJM7DK8ldGdInmyxMqSHv6b99iSl1sBaoPCoriqfIOoZwOouOduG/ZtLOgh/EOopOVqiDAzhePqdblmcDrVpUtgmS9PUxsZ4N0BSRsGecMRvaqAdn1/2o6bZfGmH+LRbbIn9HPo792zPetpafLhS53wwTJDEHJre19pthDs873ubOfi8XBBz7v9u/fHACbbRRVzhZ5PU6OQPvZCqsIUkNiPBxkYkZlcSSczGrIEKr9CTrJJPy7nVRsLhnZGg67FYZEl+e0F72eUtrXUFjsjyDzuKgPyw02YC7KoIyPn2Y9EVsrKNYuQ1jpSxUstQHuwNO4f8wHm2OM+bdL3Pdx1yNLvgfMowxLIbDmYuwPb2EVjk0Fub283F5HSNnF208t34U+XAzTLnjrePIjyvEGpAJXHwKrT5q2gOYdwb9XWYeGPXPj+9BL93f9c/LoJ9FvnBMHuQXO8CdJKAW1N/J1HFRYYA8Ig2mnXwiZvQUknaZHK9e/lW9mLQquKB40RHtWRD2MXxhu+LIGOijGC4/7bN1SQfLX03CQQ5ZTfExcEJL+AE/jRNn0T7862gYJ4/tPdY3wanYoE76WOMN2wxRwUK37TgASSnWCI3+q1+2p0Xe+Ve4u7BbPfIOfOucxPzYD529f7Fv1uZwCCtfpKOPl92ljsmdWMJSP12swBdPvPUteXe2gFC22sv3dwfHwObaa1udN4j1ZEj1Rf25JS/XyVWgQbFCChYCWWAyx9QywZAkHMkuPSYWSeYi8DTISlKpInoZsK/rkEyQ3lJBbpFShZBk9eKgh0bIahVw6Es96u84sEqS+Fk60DkTQy0kFix9wCj9MIZ4cKxiE4TSxz6CXeIMjKxbqqjJKCj8iDMWaDOtpg4R2gCkZxEwfUYj/5MPvoSG75P33XXwaeTcWKi1f5Tr/Ed778v2YYUx0z9T3FXPtG5yS+7nyfM6OXKBQBEnbmsdErq4Je8PjdRisoOe1r5/7fm4Tl635LyEJhKYeCRdJWjioCLvhIpxJLX6xJugURQRiWpqGmDhLFqxeEx+gS86p2IZisTABn20LjmebjkO+RKGYiFEuz55EN6pGTJqTi9EisRBPtJg9clSXnkEhtCl4i9Famwgw3nJBApSTa+oVJrpGFkZew6hN/GwohJHYksn1DHOhm/0Ujhs3cpPIc/fDFML+V+bz0vbd5GvcJF7d12JJQ6AcyhyJGK5Lfm4JpkanxR8rrVqe5mf7OZId+nHWm1Bh/uXmsqnhUtoeZ3cmde003FMvngmYnptSI5lAQSPIBhbmSR4LIvU0iGxXti5QuBwtIceVUonJHWp32O63t7e+8JLTcK3UjAIO2OQb/Q/SBGSUVy9XzEW/1NH4CjA0u9FrGKs4+Uw+W/djgux5L+qt+BcMafr9kdKGKX1QdY2jJMx2LjRJ97OKVtyc2vK77nl5yI7Nx5t0FH0ZF2Uttpfdv97kX+xXXLp5e1pF3ng5rjzpREGY7HIfcdbGC2Fl7sheSZ9xrGUd5CQ8W9ayDPjs9jHMfO2JcN717El98cVJtfJHWvZvIhYZKdIMcgUUpKELmQySSsIAQo+idCdbyKz20EwE1D8K2QPO9RVC56CKlD7ZT9sV+2jjGWlakL20Eln4FA4bD9zbCEMbbGg6ChFHIvG9/hdSD3GglPBkzolROysD36M88a142V/rMOYCONJHpmX3gbZ8RKar5Obg2WaHHbblMt12fOeLo5Z5O6M7IzN4XifK4M48bbwqKnyY/x4nZyARvKmT6Hh+HZ+Cz513o56WvvrPPqxXNvq/Nx4t9Xp3Bj15zH5UOQmGVfsJLWIFOSPbjCrtpPJUfzku5Bjc/YNYyZ2QC73Yyy7Na0FwBYZILnpRxaDmmJ0+K44pJ1N1B6a5Z+MlRVPLRSNmcZrLqhd7irOwCmKLz0qxZMxpKOyB53GrmPL4AIO65bWdD7wkEnrChnmwfNeuYRMuI1eqoD6Mo9G+LH8zTCVa55fmnOLe6JLyS7VPmdjKjsue0ueL3L0lhzxM2bFPdwMg+CX3pLbCU9h0D+3TaejU/MrC4zZXrmpfi+P47PIy4m3JA6jd+EJBCEionm+F8/Yzn5RJggqsobGWIOA5Wip5PNyMjCJRxLHykBKJaPxkbBYwESKY8J2NdICBWg4vYxaqYo0OH2UPBtdFROciJ8cHWLEmPQ/xqqQu0/hOsfJXWNqma6SK4TQiV785/GjHXcs088YpMGuh3QUuXfXfeLNfB75NPJ2WzLuNzeXmi5nY6kxY7uLPG+G4Ym3SDMxVKX33fVI6vYVuQORo+Puhx0ZZUagIOMgPfW43td3T5aWWVyDxiW08qipXyIQ6RajxDbSnAWaRRYE5ERrfJLWoJn8wRqS0vOhjUSKrUX2sw890sm5iQz7rMM6QwaVpAJImqYutdvX3q8xCLdohl6OxEQkSN1pw+AYC9vWMrTRyoyP0i17C3otHzFaT2Lk/uIv9dmvMnXx2w/ryCkEJnEmDqHHN8PkU2i8/DXHNXMTff65zVOPc7+X3Y/pcn2WW07GfdLlIp9+C22M0y+NYM6UcO+uH370Ce3E8y7nc9/YMuo5cE/xnKznH+N16bo8na/jMa/lUYfH9H49d+72OqUMn9XtPrgffavXPcxXMh965LH87LDezMKsK+3JUZA3aEliBXWS253cpG3ipPYkcZBeaqMQOOnjw4okC5nlQIwJUpL8hdBIGseHj1iip0WPyU0D9kfDVOQcW/3pdZpx2KaUwyTdy374Fz6oM9YTMW6IMQbTd/tpv2S6+2W7jtM4eFxMjZXwkDWZCb+KHmEUSBGHRRkX+WEnfolva9Wz3+KUeYipueV+nNh1/7SvL9dxnh85b92eTsfW9kV70PkoXxC54tjTFk68VT7Eo6bMKjPGLflDD7UVhx/Z9jr4aBb6SSuvaP9v+528jE8nnnt5O/ALp7QDDjmcL9BHkZMMKg0zN0jm2NGsLVAHSMvBdHFsQnQSzuQcxtNk2JKN0B4FGyVhArsoXAhlJaEmNEidCWw/g8pRtdLbC6K4QN/DLypz7FytZNVrScY4H8VjB4RT4OUCsnOht48b/eHSFKfQofRgpP5JNrAzTjFdwCCwSR9jRaLl4quMMNco8q9cfkXbc99D2vHnXLrdHF+Oe/9P18kxZ1zcPr3fIe2SSy/j66ycG4YZucgiN2Hw9oz1659oV1+7up12xpfamWevbGeec/7C70szbZZbrs8yy02f6/gF+bNXti+eeXa7ctWqtmHD03qPmQvEhCVZRKAkRpFxYVMCsi4QjweA/E9bCMgLQxGK8tGPCfooE/NUaTpHn2wWQhZbHu9acr6khxaoX/3Fp+hijDFY5sJ/LtDRiBFj7UMAwtgTnOiXTOp1jMYp46wFW3SETsZB88ZYMt0HKgpoSlwUK8uMs+vvi4pTeLE14sTroba029eta2d86ax25tnnJccX+BRcd7uny3F4rg/j/rljp/qkZ2U746zz2tnnnc839PKDjqZlEqVeJ4/4sdXD203xErynN2zgtTdOMf9v7IfnhbkVz2IKYpJPQQiAwf9AxqgTz6hFpF5KR5AaQoXO5D4LM/SLzLZBAylDuRjPNOR8kJg2Ykz46ErrNno8tIUqGcZhmS0qGBd3yNGZiMBdcl16pTPGGycI0Ey31TEQlsSFNspy+CXfIyf2ruJo39CWOuyPx3XbdMZjBpwkKx0hHz7gSywbNjzzb47bWYtPb6D/KHB/z8+5NEeGm2GAD4DQ2zK36PW/eH0uf3g1rl5bjK09XpWr1+X6Vbt6VS5ea8z3apXX7mocXvEb4y3j1+eyXa8ATr05vtvya4dtl7Lx6l/P43DDcj7h5vJjkkmYMelIu+jrdk0NlnCRBHRIT5cxbuLXXL/aun0RjTWS+iDj6tHKgBajn2M1gPbth6f0VQqy3+M9lfrwJQo09brASf6Og4tUdqKdbtrfioPaiGfG1XVVnDxv/eljjpOfjqvatyzHOnfL4GQbjrXyARzBFn3gNPndXw2dvJ1w3q/Hdj+5V3iLfvSNdVNeKc3+eMX1gk3Xm161Lf+ituLV3OY8+pLrxq9whWfXBZaT76TEcgFPQP8baQ/S9kJSISvhiDHI6fii2wRimUkoZbHYSefxHJGFbyxtx8skGPXFuEkxWbX0h07KAG+2IpTRPpdihaDOlGGuAgOSOuJlDIw5VIUNGZGttG67xW/FIT+MkWODC9nPseF72JMfVkphRUD9PU4HTF3GydMY3nEKb51H9CeYEQ/64t+UD7Dx/52fM+fcKk88JhcqEWyCGWhFAgiqEAo+SB4LBskyHuJ2TjnW5IhE0ITsKC+kCYnqsWHSqmV78NFkCd1iWvjoPmc+9NNn+WCiOg4aiphkex4HjROp7SumNKwIJnEwQnVnP7BTQmzLeuGHQoFO2aGPDDPaYmgI9gLTANHaY3OcMRA2cplC0lYcct7UFDLGRkYZr3U4fuOhGBSj2zy1z5Sxj55Gfhn4BIcILXwN/EO++hloB772QTEHoNLBse4H5j3OlAu+EH8FqzzLoDDguPAnMDIe0zjcnlgIDPraVcIn+wMN9CxzbB1IawzXhP4pTuua3PEWihFnVyv1McKOeZqS7of0JMiqix5N+k3eCEOgOeF0WklIFHK8QPX4iDLsU40QCHn2p3/qH2xCIO1pnv2ODXpCRiBH9B7DXhfRHA6SJwaDH91W+pP90pN+uVgVbDTLJnGgr06ycJN7XWbMwQwONV4Pq7EZp+pjbZvI2r4w+7/aN5ecAGIYhnL/U6M82+lnWLGsgtB0pk0c20nFCnnYOnXYMxMNfd41iqd9YpXGjqfH2158umfl6h8dca5gI1g8F749te/Jy3rPQ31/NayZIM/a6v3E+ec8tI5NQ/2DikTYHIp2+TXwEQZxmY2INl05YHVTPJwtZIvpvJNMTMGwzktjnU+TzCExFlcR+VGJdUGESecJS0NTS9zdyOBlpaYuTMXJMzURztdesILNCpZywKDUwgqmGGo/e8nXd3yQB4mJqKKin8Lgt1zSBfEKZ3aR0gMWLCAMhDQhEEcMBRb34hetB8fsbyvs67s9XbnRCZ7Pq1Sw93Nps1ioCGfFkCmmoto44cghnsgHcXLeh6P2ZUtqQa79k6rNl/gGlnSgDVMLAzfchGCWpoXhqsQcPnSMMW6ftvPtL7mxTQwxIVMJgCwz/iSbGBdQmgkfGNrbQSOYuo5lQXMMiR8ywqxsAGh62DxFwdyGOqbPeYlwDV40RHtAGFQZ2lw9INGJJ95rHcbRYHm4UyMCqSFPGDSfi7RU8p79yKBIMqSzIMkwJovjYZ/zi0P4RgMpxHp0jYcOVWh6moUAplcqVGcwaiK1vzBTN/o4w+tKcL9dj6USfGn63DWcoXL6AKPyVFGfXx/MB0A/nMNX3j0D4F0cgyAq4bg0HDqjIbixTsDwj4jCFQdh+jPG7LbJ534KtEr9gDCPcWAceNaBueTPtnaEjQNyYC75TMI48LgDc8kfb/DIGwfmks8MjAOPOzCX/PEGj7xxYC75zMA48LgDv9ANAtgjYyz8AAAAAElFTkSuQmCC)"
      ]
    },
    {
      "cell_type": "code",
      "metadata": {
        "id": "E0mqEVNB9ohf",
        "colab": {
          "base_uri": "https://localhost:8080/"
        },
        "outputId": "ad84a92b-5811-4a6f-d57a-76530da88a8b"
      },
      "source": [
        "# Adjacency matrix\n",
        "A = np.asarray([[0, 0, 1, 1],\n",
        "                [1, 0, 0, 1],\n",
        "                [0, 1, 0, 1],\n",
        "                [0, 1, 0, 0]])\n",
        "\n",
        "A, A.shape"
      ],
      "execution_count": 29,
      "outputs": [
        {
          "output_type": "execute_result",
          "data": {
            "text/plain": [
              "(array([[0, 0, 1, 1],\n",
              "        [1, 0, 0, 1],\n",
              "        [0, 1, 0, 1],\n",
              "        [0, 1, 0, 0]]), (4, 4))"
            ]
          },
          "metadata": {},
          "execution_count": 29
        }
      ]
    },
    {
      "cell_type": "code",
      "metadata": {
        "id": "PVblKRDW94b2"
      },
      "source": [
        "alpha = 0.15\n",
        "N = A.shape[0]"
      ],
      "execution_count": 30,
      "outputs": []
    },
    {
      "cell_type": "code",
      "metadata": {
        "id": "eaLgCvCM90UA"
      },
      "source": [
        "P = ((A/A.sum(-1).reshape(-1,1)) * (1-alpha)) + alpha/N"
      ],
      "execution_count": 31,
      "outputs": []
    },
    {
      "cell_type": "code",
      "metadata": {
        "id": "urgdfwvw-4Xt",
        "colab": {
          "base_uri": "https://localhost:8080/"
        },
        "outputId": "9e6cf7f5-a938-4462-afa5-155d5f781b1f"
      },
      "source": [
        "P, P.shape"
      ],
      "execution_count": 32,
      "outputs": [
        {
          "output_type": "execute_result",
          "data": {
            "text/plain": [
              "(array([[0.0375, 0.0375, 0.4625, 0.4625],\n",
              "        [0.4625, 0.0375, 0.0375, 0.4625],\n",
              "        [0.0375, 0.4625, 0.0375, 0.4625],\n",
              "        [0.0375, 0.8875, 0.0375, 0.0375]]), (4, 4))"
            ]
          },
          "metadata": {},
          "execution_count": 32
        }
      ]
    },
    {
      "cell_type": "code",
      "metadata": {
        "id": "6F4-uoRaNJaZ",
        "colab": {
          "base_uri": "https://localhost:8080/"
        },
        "outputId": "608456c4-15e6-4bb7-e9bf-c56e819ff6d4"
      },
      "source": [
        "P = np.nan_to_num(P, nan=1/N)\n",
        "P"
      ],
      "execution_count": 33,
      "outputs": [
        {
          "output_type": "execute_result",
          "data": {
            "text/plain": [
              "array([[0.0375, 0.0375, 0.4625, 0.4625],\n",
              "       [0.4625, 0.0375, 0.0375, 0.4625],\n",
              "       [0.0375, 0.4625, 0.0375, 0.4625],\n",
              "       [0.0375, 0.8875, 0.0375, 0.0375]])"
            ]
          },
          "metadata": {},
          "execution_count": 33
        }
      ]
    },
    {
      "cell_type": "code",
      "metadata": {
        "id": "B7NaShNf-OIH",
        "colab": {
          "base_uri": "https://localhost:8080/"
        },
        "outputId": "b4c2675f-1c07-4d46-9f2c-f938892aace2"
      },
      "source": [
        "P.sum(-1), P.sum(0)"
      ],
      "execution_count": 34,
      "outputs": [
        {
          "output_type": "execute_result",
          "data": {
            "text/plain": [
              "(array([1., 1., 1., 1.]), array([0.575, 1.425, 0.575, 1.425]))"
            ]
          },
          "metadata": {},
          "execution_count": 34
        }
      ]
    },
    {
      "cell_type": "code",
      "metadata": {
        "id": "3DJmKpV47qZN",
        "colab": {
          "base_uri": "https://localhost:8080/"
        },
        "outputId": "1a910849-7b36-464c-dcc3-6823fcdb029b"
      },
      "source": [
        "A = np.eye(N)[0]\n",
        "for i in range(40):\n",
        "    A = A @ P\n",
        "    print(i, A)"
      ],
      "execution_count": 35,
      "outputs": [
        {
          "output_type": "stream",
          "name": "stdout",
          "text": [
            "0 [0.0375 0.0375 0.4625 0.4625]\n",
            "1 [0.0534375 0.6271875 0.0534375 0.2659375]\n",
            "2 [0.30405469 0.28625781 0.06021094 0.34947656]\n",
            "3 [0.15915957 0.36014473 0.16672324 0.31397246]\n",
            "4 [0.19056151 0.37523397 0.10514282 0.3290617 ]\n",
            "5 [0.19697444 0.36188815 0.11848864 0.32264878]\n",
            "6 [0.19130246 0.36210913 0.12121414 0.32537427]\n",
            "7 [0.19139638 0.36558414 0.11880355 0.32421594]\n",
            "8 [0.19287326 0.36357505 0.11884346 0.32470823]\n",
            "9 [0.1920194  0.36401046 0.11947113 0.324499  ]\n",
            "10 [0.19220445 0.36409939 0.11910824 0.32458792]\n",
            "11 [0.19224224 0.36402074 0.11918689 0.32455013]\n",
            "12 [0.19220881 0.36402204 0.11920295 0.32456619]\n",
            "13 [0.19220937 0.36404252 0.11918875 0.32455937]\n",
            "14 [0.19221807 0.36403068 0.11918898 0.32456227]\n",
            "15 [0.19221304 0.36403325 0.11919268 0.32456104]\n",
            "16 [0.19221413 0.36403377 0.11919054 0.32456156]\n",
            "17 [0.19221435 0.36403331 0.119191   0.32456134]\n",
            "18 [0.19221416 0.36403331 0.1191911  0.32456143]\n",
            "19 [0.19221416 0.36403343 0.11919102 0.32456139]\n",
            "20 [0.19221421 0.36403336 0.11919102 0.32456141]\n",
            "21 [0.19221418 0.36403338 0.11919104 0.3245614 ]\n",
            "22 [0.19221419 0.36403338 0.11919103 0.3245614 ]\n",
            "23 [0.19221419 0.36403338 0.11919103 0.3245614 ]\n",
            "24 [0.19221419 0.36403338 0.11919103 0.3245614 ]\n",
            "25 [0.19221419 0.36403338 0.11919103 0.3245614 ]\n",
            "26 [0.19221419 0.36403338 0.11919103 0.3245614 ]\n",
            "27 [0.19221419 0.36403338 0.11919103 0.3245614 ]\n",
            "28 [0.19221419 0.36403338 0.11919103 0.3245614 ]\n",
            "29 [0.19221419 0.36403338 0.11919103 0.3245614 ]\n",
            "30 [0.19221419 0.36403338 0.11919103 0.3245614 ]\n",
            "31 [0.19221419 0.36403338 0.11919103 0.3245614 ]\n",
            "32 [0.19221419 0.36403338 0.11919103 0.3245614 ]\n",
            "33 [0.19221419 0.36403338 0.11919103 0.3245614 ]\n",
            "34 [0.19221419 0.36403338 0.11919103 0.3245614 ]\n",
            "35 [0.19221419 0.36403338 0.11919103 0.3245614 ]\n",
            "36 [0.19221419 0.36403338 0.11919103 0.3245614 ]\n",
            "37 [0.19221419 0.36403338 0.11919103 0.3245614 ]\n",
            "38 [0.19221419 0.36403338 0.11919103 0.3245614 ]\n",
            "39 [0.19221419 0.36403338 0.11919103 0.3245614 ]\n"
          ]
        }
      ]
    },
    {
      "cell_type": "code",
      "metadata": {
        "id": "meXMn7W98Ky0"
      },
      "source": [
        "# [0.29721762 0.30554233 0.16380983 0.23343022]\n",
        "# [0.20618557 0.20618557 0.20618557 0.3814433 ]"
      ],
      "execution_count": null,
      "outputs": []
    },
    {
      "cell_type": "code",
      "metadata": {
        "id": "xmWQQIkrlHxb"
      },
      "source": [],
      "execution_count": null,
      "outputs": []
    }
  ]
}